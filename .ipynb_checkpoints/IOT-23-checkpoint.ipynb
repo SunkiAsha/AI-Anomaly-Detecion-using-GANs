{
 "cells": [
  {
   "cell_type": "code",
   "execution_count": 1,
   "metadata": {},
   "outputs": [],
   "source": [
    "import warnings\n",
    "warnings.filterwarnings('ignore')"
   ]
  },
  {
   "cell_type": "code",
   "execution_count": 2,
   "metadata": {},
   "outputs": [
    {
     "name": "stdout",
     "output_type": "stream",
     "text": [
      "1 Physical GPU, 2 Logical GPUs\n"
     ]
    }
   ],
   "source": [
    "import tensorflow as tf\n",
    "gpus = tf.config.list_physical_devices('GPU')\n",
    "if gpus:\n",
    "  # Create 2 virtual GPUs with 1GB memory each\n",
    "  try:\n",
    "    tf.config.set_logical_device_configuration(\n",
    "        gpus[0],\n",
    "        [tf.config.LogicalDeviceConfiguration(memory_limit=1024),\n",
    "         tf.config.LogicalDeviceConfiguration(memory_limit=1024)])\n",
    "    logical_gpus = tf.config.list_logical_devices('GPU')\n",
    "    print(len(gpus), \"Physical GPU,\", len(logical_gpus), \"Logical GPUs\")\n",
    "  except RuntimeError as e:\n",
    "    # Virtual devices must be set before GPUs have been initialized\n",
    "    print(e)"
   ]
  },
  {
   "cell_type": "code",
   "execution_count": 3,
   "metadata": {},
   "outputs": [],
   "source": [
    "import tensorflow as tf\n",
    "import pandas as pd\n",
    "import numpy as np\n",
    "import sklearn\n",
    "from keras.models import Sequential, load_model\n",
    "from sklearn.model_selection import train_test_split\n",
    "from sklearn.linear_model import LogisticRegression\n",
    "from sklearn import preprocessing\n",
    "from sklearn.preprocessing import LabelEncoder, StandardScaler\n",
    "from sklearn.metrics import confusion_matrix\n",
    "from keras.utils import np_utils"
   ]
  },
  {
   "cell_type": "code",
   "execution_count": 4,
   "metadata": {},
   "outputs": [],
   "source": [
    "import numpy as np\n",
    "import pandas as pd\n",
    "import pickle # saving and loading trained model\n",
    "from os import path\n",
    "\n",
    "# importing required libraries for normalizing data\n",
    "from sklearn import preprocessing\n",
    "from sklearn.preprocessing import (StandardScaler, OrdinalEncoder,LabelEncoder, MinMaxScaler, OneHotEncoder)\n",
    "from sklearn.preprocessing import Normalizer, MaxAbsScaler , RobustScaler, PowerTransformer\n",
    "\n",
    "# importing library for plotting\n",
    "import matplotlib.pyplot as plt\n",
    "import seaborn as sns"
   ]
  },
  {
   "cell_type": "code",
   "execution_count": 5,
   "metadata": {},
   "outputs": [],
   "source": [
    "df = pd.read_csv('data/IoT-23.csv')\n",
    "#df.drop(df.loc[df['Label'] == 'Label'].index, inplace=True)"
   ]
  },
  {
   "cell_type": "code",
   "execution_count": 8,
   "metadata": {},
   "outputs": [],
   "source": [
    "df = df[0:10000]"
   ]
  },
  {
   "cell_type": "code",
   "execution_count": 9,
   "metadata": {},
   "outputs": [
    {
     "data": {
      "text/plain": [
       "Index(['IPV4_SRC_ADDR', 'L4_SRC_PORT', 'IPV4_DST_ADDR', 'L4_DST_PORT',\n",
       "       'PROTOCOL', 'L7_PROTO', 'IN_BYTES', 'OUT_BYTES', 'IN_PKTS', 'OUT_PKTS',\n",
       "       'TCP_FLAGS', 'FLOW_DURATION_MILLISECONDS', 'Label', 'Attack'],\n",
       "      dtype='object')"
      ]
     },
     "execution_count": 9,
     "metadata": {},
     "output_type": "execute_result"
    }
   ],
   "source": [
    "df.columns"
   ]
  },
  {
   "cell_type": "code",
   "execution_count": 10,
   "metadata": {},
   "outputs": [
    {
     "data": {
      "text/plain": [
       "1    7252\n",
       "0    2748\n",
       "Name: Label, dtype: int64"
      ]
     },
     "execution_count": 10,
     "metadata": {},
     "output_type": "execute_result"
    }
   ],
   "source": [
    "df.Label.value_counts()"
   ]
  },
  {
   "cell_type": "code",
   "execution_count": 11,
   "metadata": {},
   "outputs": [
    {
     "data": {
      "text/plain": [
       "injection    4081\n",
       "Benign       2748\n",
       "password     1531\n",
       "ddos         1040\n",
       "scanning      449\n",
       "dos           148\n",
       "mitm            3\n",
       "Name: Attack, dtype: int64"
      ]
     },
     "execution_count": 11,
     "metadata": {},
     "output_type": "execute_result"
    }
   ],
   "source": [
    "df.Attack.value_counts()"
   ]
  },
  {
   "cell_type": "code",
   "execution_count": 12,
   "metadata": {},
   "outputs": [],
   "source": [
    "df = df.drop(columns=['IPV4_SRC_ADDR', 'IPV4_DST_ADDR'])"
   ]
  },
  {
   "cell_type": "code",
   "execution_count": 13,
   "metadata": {},
   "outputs": [
    {
     "name": "stdout",
     "output_type": "stream",
     "text": [
      "0 rows with at least one NaN to remove\n"
     ]
    }
   ],
   "source": [
    "df.replace([np.inf, -np.inf], np.nan, inplace=True)    \n",
    "print(df.isna().any(axis=1).sum(), \"rows with at least one NaN to remove\")\n",
    "df.dropna(inplace=True)"
   ]
  },
  {
   "cell_type": "code",
   "execution_count": 14,
   "metadata": {},
   "outputs": [
    {
     "name": "stdout",
     "output_type": "stream",
     "text": [
      "85 fully duplicate rows to remove\n"
     ]
    }
   ],
   "source": [
    "print(df.duplicated().sum(), \"fully duplicate rows to remove\")\n",
    "df.drop_duplicates(inplace=True)\n",
    "df.reset_index(inplace=True, drop=True)"
   ]
  },
  {
   "cell_type": "code",
   "execution_count": 15,
   "metadata": {},
   "outputs": [
    {
     "data": {
      "text/html": [
       "<div>\n",
       "<style scoped>\n",
       "    .dataframe tbody tr th:only-of-type {\n",
       "        vertical-align: middle;\n",
       "    }\n",
       "\n",
       "    .dataframe tbody tr th {\n",
       "        vertical-align: top;\n",
       "    }\n",
       "\n",
       "    .dataframe thead th {\n",
       "        text-align: right;\n",
       "    }\n",
       "</style>\n",
       "<table border=\"1\" class=\"dataframe\">\n",
       "  <thead>\n",
       "    <tr style=\"text-align: right;\">\n",
       "      <th></th>\n",
       "      <th>L4_SRC_PORT</th>\n",
       "      <th>L4_DST_PORT</th>\n",
       "      <th>PROTOCOL</th>\n",
       "      <th>L7_PROTO</th>\n",
       "      <th>IN_BYTES</th>\n",
       "      <th>OUT_BYTES</th>\n",
       "      <th>IN_PKTS</th>\n",
       "      <th>OUT_PKTS</th>\n",
       "      <th>TCP_FLAGS</th>\n",
       "      <th>FLOW_DURATION_MILLISECONDS</th>\n",
       "      <th>Label</th>\n",
       "      <th>Attack</th>\n",
       "    </tr>\n",
       "  </thead>\n",
       "  <tbody>\n",
       "    <tr>\n",
       "      <th>0</th>\n",
       "      <td>63318</td>\n",
       "      <td>443</td>\n",
       "      <td>6</td>\n",
       "      <td>91.00</td>\n",
       "      <td>181</td>\n",
       "      <td>165</td>\n",
       "      <td>2</td>\n",
       "      <td>1</td>\n",
       "      <td>24</td>\n",
       "      <td>327</td>\n",
       "      <td>0</td>\n",
       "      <td>Benign</td>\n",
       "    </tr>\n",
       "    <tr>\n",
       "      <th>1</th>\n",
       "      <td>57442</td>\n",
       "      <td>15600</td>\n",
       "      <td>17</td>\n",
       "      <td>0.00</td>\n",
       "      <td>63</td>\n",
       "      <td>0</td>\n",
       "      <td>1</td>\n",
       "      <td>0</td>\n",
       "      <td>0</td>\n",
       "      <td>0</td>\n",
       "      <td>0</td>\n",
       "      <td>Benign</td>\n",
       "    </tr>\n",
       "    <tr>\n",
       "      <th>2</th>\n",
       "      <td>57452</td>\n",
       "      <td>15600</td>\n",
       "      <td>17</td>\n",
       "      <td>0.00</td>\n",
       "      <td>63</td>\n",
       "      <td>0</td>\n",
       "      <td>1</td>\n",
       "      <td>0</td>\n",
       "      <td>0</td>\n",
       "      <td>0</td>\n",
       "      <td>0</td>\n",
       "      <td>Benign</td>\n",
       "    </tr>\n",
       "    <tr>\n",
       "      <th>3</th>\n",
       "      <td>138</td>\n",
       "      <td>138</td>\n",
       "      <td>17</td>\n",
       "      <td>10.16</td>\n",
       "      <td>472</td>\n",
       "      <td>0</td>\n",
       "      <td>2</td>\n",
       "      <td>0</td>\n",
       "      <td>0</td>\n",
       "      <td>0</td>\n",
       "      <td>0</td>\n",
       "      <td>Benign</td>\n",
       "    </tr>\n",
       "    <tr>\n",
       "      <th>4</th>\n",
       "      <td>51989</td>\n",
       "      <td>15600</td>\n",
       "      <td>17</td>\n",
       "      <td>0.00</td>\n",
       "      <td>63</td>\n",
       "      <td>0</td>\n",
       "      <td>1</td>\n",
       "      <td>0</td>\n",
       "      <td>0</td>\n",
       "      <td>0</td>\n",
       "      <td>0</td>\n",
       "      <td>Benign</td>\n",
       "    </tr>\n",
       "  </tbody>\n",
       "</table>\n",
       "</div>"
      ],
      "text/plain": [
       "   L4_SRC_PORT  L4_DST_PORT  PROTOCOL  L7_PROTO  IN_BYTES  OUT_BYTES  IN_PKTS  \\\n",
       "0        63318          443         6     91.00       181        165        2   \n",
       "1        57442        15600        17      0.00        63          0        1   \n",
       "2        57452        15600        17      0.00        63          0        1   \n",
       "3          138          138        17     10.16       472          0        2   \n",
       "4        51989        15600        17      0.00        63          0        1   \n",
       "\n",
       "   OUT_PKTS  TCP_FLAGS  FLOW_DURATION_MILLISECONDS  Label  Attack  \n",
       "0         1         24                         327      0  Benign  \n",
       "1         0          0                           0      0  Benign  \n",
       "2         0          0                           0      0  Benign  \n",
       "3         0          0                           0      0  Benign  \n",
       "4         0          0                           0      0  Benign  "
      ]
     },
     "execution_count": 15,
     "metadata": {},
     "output_type": "execute_result"
    }
   ],
   "source": [
    "df.head()"
   ]
  },
  {
   "cell_type": "code",
   "execution_count": 16,
   "metadata": {},
   "outputs": [
    {
     "name": "stdout",
     "output_type": "stream",
     "text": [
      "<class 'pandas.core.frame.DataFrame'>\n",
      "RangeIndex: 9915 entries, 0 to 9914\n",
      "Data columns (total 12 columns):\n",
      "L4_SRC_PORT                   9915 non-null int64\n",
      "L4_DST_PORT                   9915 non-null int64\n",
      "PROTOCOL                      9915 non-null int64\n",
      "L7_PROTO                      9915 non-null float64\n",
      "IN_BYTES                      9915 non-null int64\n",
      "OUT_BYTES                     9915 non-null int64\n",
      "IN_PKTS                       9915 non-null int64\n",
      "OUT_PKTS                      9915 non-null int64\n",
      "TCP_FLAGS                     9915 non-null int64\n",
      "FLOW_DURATION_MILLISECONDS    9915 non-null int64\n",
      "Label                         9915 non-null int64\n",
      "Attack                        9915 non-null object\n",
      "dtypes: float64(1), int64(10), object(1)\n",
      "memory usage: 929.7+ KB\n"
     ]
    }
   ],
   "source": [
    "df.info()"
   ]
  },
  {
   "cell_type": "code",
   "execution_count": 17,
   "metadata": {},
   "outputs": [],
   "source": [
    "del df['Attack']"
   ]
  },
  {
   "cell_type": "code",
   "execution_count": 97,
   "metadata": {},
   "outputs": [],
   "source": [
    "X = df.drop([\"Label\"],axis =1)\n",
    "y = df[\"Label\"]"
   ]
  },
  {
   "cell_type": "code",
   "execution_count": 19,
   "metadata": {},
   "outputs": [
    {
     "data": {
      "text/plain": [
       "Index(['L4_SRC_PORT', 'L4_DST_PORT', 'PROTOCOL', 'L7_PROTO', 'IN_BYTES',\n",
       "       'OUT_BYTES', 'IN_PKTS', 'OUT_PKTS', 'TCP_FLAGS',\n",
       "       'FLOW_DURATION_MILLISECONDS'],\n",
       "      dtype='object')"
      ]
     },
     "execution_count": 19,
     "metadata": {},
     "output_type": "execute_result"
    }
   ],
   "source": [
    "features = X.columns\n",
    "features"
   ]
  },
  {
   "cell_type": "code",
   "execution_count": 98,
   "metadata": {},
   "outputs": [
    {
     "name": "stdout",
     "output_type": "stream",
     "text": [
      "(7932, 10) (7932,)\n",
      "(1983, 10) (1983,)\n"
     ]
    }
   ],
   "source": [
    "X_train, X_test, y_train, y_test = train_test_split(X, y, test_size=0.2)\n",
    "print (X_train.shape, y_train.shape)\n",
    "print( X_test.shape, y_test.shape)"
   ]
  },
  {
   "cell_type": "code",
   "execution_count": 21,
   "metadata": {},
   "outputs": [],
   "source": [
    "from sklearn.metrics import accuracy_score, precision_score, recall_score, f1_score"
   ]
  },
  {
   "cell_type": "code",
   "execution_count": 22,
   "metadata": {},
   "outputs": [],
   "source": [
    "ML_Model = []\n",
    "accuracy = []\n",
    "precision = []\n",
    "recall = []\n",
    "f1score = []\n",
    "\n",
    "#function to call for storing the results\n",
    "def storeResults(model, a,b,c,d):\n",
    "    ML_Model.append(model)\n",
    "    accuracy.append(round(a, 3))\n",
    "    precision.append(round(b, 3))\n",
    "    recall.append(round(c, 3))\n",
    "    f1score.append(round(d, 3))"
   ]
  },
  {
   "cell_type": "markdown",
   "metadata": {},
   "source": [
    "# SVM"
   ]
  },
  {
   "cell_type": "code",
   "execution_count": 23,
   "metadata": {},
   "outputs": [],
   "source": [
    "from sklearn.svm import SVC\n",
    "\n",
    "clf = SVC()\n",
    "# fit the model \n",
    "clf.fit(X_train, y_train)\n",
    "\n",
    "#predicting the target value from the model for the samples\n",
    "\n",
    "y_hat = clf.predict(X_test)\n",
    "\n",
    "svm_acc = accuracy_score(y_hat, y_test)\n",
    "svm_prec = precision_score(y_hat, y_test,average='weighted')\n",
    "svm_rec = recall_score(y_hat, y_test,average='weighted')\n",
    "svm_f1 = f1_score(y_hat, y_test,average='weighted')"
   ]
  },
  {
   "cell_type": "code",
   "execution_count": 81,
   "metadata": {},
   "outputs": [],
   "source": [
    "storeResults('SVM',svm_acc,svm_prec,svm_rec,svm_f1)"
   ]
  },
  {
   "cell_type": "markdown",
   "metadata": {},
   "source": [
    "# Decision Tree"
   ]
  },
  {
   "cell_type": "code",
   "execution_count": 24,
   "metadata": {},
   "outputs": [],
   "source": [
    "from sklearn.tree import DecisionTreeClassifier\n",
    "\n",
    "clf = DecisionTreeClassifier(random_state=10)\n",
    "# fit the model \n",
    "clf.fit(X_train, y_train)\n",
    "\n",
    "#predicting the target value from the model for the samples\n",
    "\n",
    "y_hat = clf.predict(X_test)\n",
    "\n",
    "dt_acc = accuracy_score(y_hat, y_test)\n",
    "dt_prec = precision_score(y_hat, y_test,average='weighted')\n",
    "dt_rec = recall_score(y_hat, y_test,average='weighted')\n",
    "dt_f1 = f1_score(y_hat, y_test,average='weighted')"
   ]
  },
  {
   "cell_type": "code",
   "execution_count": 82,
   "metadata": {},
   "outputs": [],
   "source": [
    "storeResults('DT',dt_acc,dt_prec,dt_rec,dt_f1)"
   ]
  },
  {
   "cell_type": "markdown",
   "metadata": {},
   "source": [
    "# Voting Classifier"
   ]
  },
  {
   "cell_type": "code",
   "execution_count": 25,
   "metadata": {},
   "outputs": [],
   "source": [
    "from sklearn.ensemble import RandomForestClassifier, VotingClassifier, AdaBoostClassifier\n",
    "from sklearn.tree import DecisionTreeClassifier\n",
    "\n",
    "rfc = RandomForestClassifier()\n",
    "parameters = {\n",
    "    \"n_estimators\":[25],\n",
    "    \"max_depth\":[20]\n",
    "    \n",
    "}\n",
    "\n",
    "from sklearn.model_selection import GridSearchCV\n",
    "forest = GridSearchCV(rfc,parameters,cv=10)\n",
    "\n",
    "clf2 = DecisionTreeClassifier(random_state=10)\n",
    "\n",
    "eclf1 = VotingClassifier(estimators=[('rf-parameter', forest), ('dt', clf2)], voting='soft')\n",
    "eclf1.fit(X_train, y_train)\n",
    "y_pred = eclf1.predict(X_test)\n",
    "\n",
    "vot_acc = accuracy_score(y_pred, y_test)\n",
    "vot_prec = precision_score(y_pred, y_test,average='weighted')\n",
    "vot_rec = recall_score(y_pred, y_test,average='weighted')\n",
    "vot_f1 = f1_score(y_pred, y_test,average='weighted')"
   ]
  },
  {
   "cell_type": "code",
   "execution_count": 101,
   "metadata": {},
   "outputs": [],
   "source": [
    "storeResults('Voting Classifier',vot_acc,vot_prec,vot_rec,vot_f1)"
   ]
  },
  {
   "cell_type": "markdown",
   "metadata": {},
   "source": [
    "# Stacking Classifier"
   ]
  },
  {
   "cell_type": "code",
   "execution_count": 27,
   "metadata": {},
   "outputs": [],
   "source": [
    "from lightgbm import LGBMClassifier\n",
    "from sklearn.ensemble import StackingClassifier\n",
    "\n",
    "estimators = [('rf', forest),('dt', DecisionTreeClassifier(random_state=10))]\n",
    "\n",
    "clf1 = StackingClassifier(estimators=estimators, final_estimator=LGBMClassifier(n_estimators=10))\n",
    "\n",
    "\n",
    "clf1.fit(X_train,y_train)\n",
    "\n",
    "y_pred = clf1.predict(X_test)\n",
    "\n",
    "stac_acc = accuracy_score(y_pred, y_test)\n",
    "stac_prec = precision_score(y_pred, y_test,average='weighted')\n",
    "stac_rec = recall_score(y_pred, y_test,average='weighted')\n",
    "stac_f1 = f1_score(y_pred, y_test,average='weighted')"
   ]
  },
  {
   "cell_type": "code",
   "execution_count": 102,
   "metadata": {},
   "outputs": [],
   "source": [
    "storeResults('Stacking Classifier',stac_acc,stac_prec,stac_rec,stac_f1)"
   ]
  },
  {
   "cell_type": "markdown",
   "metadata": {},
   "source": [
    "# LSTM-G"
   ]
  },
  {
   "cell_type": "code",
   "execution_count": 28,
   "metadata": {},
   "outputs": [],
   "source": [
    "from sklearn.preprocessing import MinMaxScaler\n",
    "\n",
    "sc = MinMaxScaler()\n",
    "\n",
    "X_train = sc.fit_transform(X_train)\n",
    "X_test = sc.transform(X_test)"
   ]
  },
  {
   "cell_type": "code",
   "execution_count": 29,
   "metadata": {},
   "outputs": [],
   "source": [
    "import torch\n",
    "from torch import nn, optim\n",
    "from torch.nn import functional as F"
   ]
  },
  {
   "cell_type": "code",
   "execution_count": 30,
   "metadata": {},
   "outputs": [],
   "source": [
    "X_train = torch.tensor(X_train).float()\n",
    "X_test = torch.tensor(X_test).float()\n",
    "y_train = torch.tensor(y_train.values).long()\n",
    "y_test = torch.tensor(y_test.values).long()"
   ]
  },
  {
   "cell_type": "code",
   "execution_count": 36,
   "metadata": {},
   "outputs": [],
   "source": [
    "class lstm(nn.Module):\n",
    "    def __init__(self):\n",
    "        super(lstm, self).__init__()\n",
    "        self.fc1 = nn.Linear(10, 64)\n",
    "        self.fc2 = nn.Linear(64, 128)\n",
    "        self.fc3 = nn.Linear(128, 256)\n",
    "        self.fc4 = nn.Linear(256, 5)\n",
    "        self.act = nn.LeakyReLU()\n",
    "        self.dropout = nn.Dropout(0.1)\n",
    "    def forward(self, x):\n",
    "        x = self.act(self.fc1(x))\n",
    "        x = self.act(self.fc2(x))\n",
    "        x = self.act(self.fc3(x))\n",
    "        x = self.dropout(x)\n",
    "        return self.fc4(x)"
   ]
  },
  {
   "cell_type": "code",
   "execution_count": 37,
   "metadata": {},
   "outputs": [],
   "source": [
    "net = lstm()"
   ]
  },
  {
   "cell_type": "code",
   "execution_count": 38,
   "metadata": {},
   "outputs": [],
   "source": [
    "optimizer = optim.AdamW(net.parameters())\n",
    "criterion = nn.CrossEntropyLoss()"
   ]
  },
  {
   "cell_type": "code",
   "execution_count": 39,
   "metadata": {},
   "outputs": [],
   "source": [
    "losses = []"
   ]
  },
  {
   "cell_type": "code",
   "execution_count": 40,
   "metadata": {},
   "outputs": [
    {
     "name": "stdout",
     "output_type": "stream",
     "text": [
      "Epoch 1, Loss: 1.587903380393982, Acc:37.32%, Test Acc: 75.24%\n",
      "Epoch 2, Loss: 1.5482183694839478, Acc:75.37%, Test Acc: 73.58%\n",
      "Epoch 3, Loss: 1.5093735456466675, Acc:74.17%, Test Acc: 73.17%\n",
      "Epoch 4, Loss: 1.4697853326797485, Acc:73.34%, Test Acc: 73.07%\n",
      "Epoch 5, Loss: 1.4300061464309692, Acc:73.23%, Test Acc: 73.07%\n",
      "Epoch 6, Loss: 1.3871662616729736, Acc:73.17%, Test Acc: 73.07%\n",
      "Epoch 7, Loss: 1.3416012525558472, Acc:73.16%, Test Acc: 73.07%\n",
      "Epoch 8, Loss: 1.2929809093475342, Acc:73.16%, Test Acc: 73.07%\n",
      "Epoch 9, Loss: 1.2409601211547852, Acc:73.16%, Test Acc: 73.07%\n",
      "Epoch 10, Loss: 1.1850353479385376, Acc:73.17%, Test Acc: 73.07%\n",
      "Epoch 11, Loss: 1.1244657039642334, Acc:73.16%, Test Acc: 73.07%\n",
      "Epoch 12, Loss: 1.0616185665130615, Acc:73.16%, Test Acc: 73.07%\n",
      "Epoch 13, Loss: 0.9940891861915588, Acc:73.16%, Test Acc: 73.07%\n",
      "Epoch 14, Loss: 0.9271484017372131, Acc:73.16%, Test Acc: 73.07%\n",
      "Epoch 15, Loss: 0.8592768311500549, Acc:73.16%, Test Acc: 73.07%\n",
      "Epoch 16, Loss: 0.7943111062049866, Acc:73.16%, Test Acc: 73.07%\n",
      "Epoch 17, Loss: 0.7352970242500305, Acc:73.16%, Test Acc: 73.07%\n",
      "Epoch 18, Loss: 0.6808732748031616, Acc:73.16%, Test Acc: 73.07%\n",
      "Epoch 19, Loss: 0.6356779932975769, Acc:73.16%, Test Acc: 73.07%\n",
      "Epoch 20, Loss: 0.6001708507537842, Acc:73.16%, Test Acc: 73.07%\n",
      "Epoch 21, Loss: 0.5709133744239807, Acc:73.16%, Test Acc: 73.07%\n",
      "Epoch 22, Loss: 0.5487111806869507, Acc:73.16%, Test Acc: 73.07%\n",
      "Epoch 23, Loss: 0.5293989777565002, Acc:73.16%, Test Acc: 73.07%\n",
      "Epoch 24, Loss: 0.5123816132545471, Acc:73.16%, Test Acc: 73.17%\n",
      "Epoch 25, Loss: 0.4963536262512207, Acc:73.20%, Test Acc: 73.83%\n",
      "Epoch 26, Loss: 0.4823373258113861, Acc:73.99%, Test Acc: 76.40%\n",
      "Epoch 27, Loss: 0.467590868473053, Acc:76.39%, Test Acc: 79.53%\n",
      "Epoch 28, Loss: 0.45650455355644226, Acc:79.87%, Test Acc: 83.31%\n",
      "Epoch 29, Loss: 0.448348730802536, Acc:83.56%, Test Acc: 85.38%\n",
      "Epoch 30, Loss: 0.44030845165252686, Acc:85.39%, Test Acc: 85.98%\n",
      "Epoch 31, Loss: 0.4321542978286743, Acc:85.74%, Test Acc: 85.93%\n",
      "Epoch 32, Loss: 0.4211257994174957, Acc:85.83%, Test Acc: 85.83%\n",
      "Epoch 33, Loss: 0.4109293222427368, Acc:85.85%, Test Acc: 86.13%\n",
      "Epoch 34, Loss: 0.4016088545322418, Acc:85.78%, Test Acc: 86.03%\n",
      "Epoch 35, Loss: 0.3967097997665405, Acc:85.85%, Test Acc: 85.88%\n",
      "Epoch 36, Loss: 0.391772598028183, Acc:85.85%, Test Acc: 86.03%\n",
      "Epoch 37, Loss: 0.3865310251712799, Acc:85.89%, Test Acc: 85.98%\n",
      "Epoch 38, Loss: 0.3816773593425751, Acc:85.94%, Test Acc: 85.98%\n",
      "Epoch 39, Loss: 0.3772541582584381, Acc:86.02%, Test Acc: 86.18%\n",
      "Epoch 40, Loss: 0.3742556571960449, Acc:86.22%, Test Acc: 86.38%\n",
      "Epoch 41, Loss: 0.37357401847839355, Acc:86.36%, Test Acc: 86.38%\n",
      "Epoch 42, Loss: 0.37177813053131104, Acc:86.41%, Test Acc: 86.38%\n",
      "Epoch 43, Loss: 0.3698311448097229, Acc:86.38%, Test Acc: 86.38%\n",
      "Epoch 44, Loss: 0.3701127767562866, Acc:86.40%, Test Acc: 86.38%\n",
      "Epoch 45, Loss: 0.36620232462882996, Acc:86.41%, Test Acc: 86.38%\n",
      "Epoch 46, Loss: 0.3647069036960602, Acc:86.41%, Test Acc: 86.38%\n",
      "Epoch 47, Loss: 0.362795889377594, Acc:86.41%, Test Acc: 86.38%\n",
      "Epoch 48, Loss: 0.3573758006095886, Acc:86.41%, Test Acc: 86.38%\n",
      "Epoch 49, Loss: 0.3533315360546112, Acc:86.37%, Test Acc: 86.49%\n"
     ]
    },
    {
     "data": {
      "text/plain": [
       "<All keys matched successfully>"
      ]
     },
     "execution_count": 40,
     "metadata": {},
     "output_type": "execute_result"
    }
   ],
   "source": [
    "max_test = 0\n",
    "best_params = net.state_dict()\n",
    "for epoch in range(1, 50):\n",
    "    optimizer.zero_grad()\n",
    "    outputs = net(X_train)\n",
    "    loss = criterion(outputs, y_train)\n",
    "    loss.backward()\n",
    "    optimizer.step()\n",
    "    losses.append(loss.item())\n",
    "    _, preds_y = torch.max(outputs, 1)\n",
    "    train_acc = accuracy_score(y_train, preds_y)\n",
    "    \n",
    "    pred_test = net(X_test)\n",
    "    _, preds_test_y = torch.max(pred_test, 1)\n",
    "    test_acc = accuracy_score(y_test, preds_test_y)\n",
    "    print(\"Epoch {}, Loss: {}, Acc:{:.2f}%, Test Acc: {:.2f}%\".format(epoch, loss.item(), \n",
    "                                                                      train_acc*100, test_acc * 100))\n",
    "    if test_acc > max_test:\n",
    "        max_test = test_acc\n",
    "        best_params = net.state_dict()\n",
    "net.load_state_dict(best_params)"
   ]
  },
  {
   "cell_type": "code",
   "execution_count": 41,
   "metadata": {},
   "outputs": [
    {
     "data": {
      "text/plain": [
       "[<matplotlib.lines.Line2D at 0x28c58aa6548>]"
      ]
     },
     "execution_count": 41,
     "metadata": {},
     "output_type": "execute_result"
    },
    {
     "data": {
      "image/png": "[encoded data removed]",
      "text/plain": [
       "<Figure size 432x288 with 1 Axes>"
      ]
     },
     "metadata": {
      "needs_background": "light"
     },
     "output_type": "display_data"
    }
   ],
   "source": [
    "plt.plot(losses)"
   ]
  },
  {
   "cell_type": "code",
   "execution_count": 42,
   "metadata": {},
   "outputs": [],
   "source": [
    "pred_test = net(X_test)\n",
    "_, preds_y = torch.max(pred_test, 1)"
   ]
  },
  {
   "cell_type": "code",
   "execution_count": 43,
   "metadata": {},
   "outputs": [],
   "source": [
    "lstmg_acc = accuracy_score(y_test, preds_y)\n",
    "lstmg_prec = precision_score(y_test, preds_y,average='weighted')\n",
    "lstmg_rec = recall_score(y_test, preds_y,average='weighted')\n",
    "lstmg_f1 = f1_score(y_test, preds_y,average='weighted')"
   ]
  },
  {
   "cell_type": "code",
   "execution_count": 83,
   "metadata": {},
   "outputs": [],
   "source": [
    "storeResults('LSTM-G',lstmg_acc,lstmg_prec,lstmg_rec,lstmg_f1)"
   ]
  },
  {
   "cell_type": "markdown",
   "metadata": {},
   "source": [
    "# CNN-G"
   ]
  },
  {
   "cell_type": "code",
   "execution_count": 44,
   "metadata": {},
   "outputs": [],
   "source": [
    "class cnn(nn.Module):\n",
    "    def __init__(self):\n",
    "        super(cnn, self).__init__()\n",
    "        self.fc1 = nn.Linear(10, 64)\n",
    "        self.fc2 = nn.Linear(64, 128)\n",
    "        self.fc3 = nn.Linear(128, 256)\n",
    "        self.fc4 = nn.Linear(256, 5)\n",
    "        self.act = nn.LeakyReLU()\n",
    "        self.dropout = nn.Dropout(0.1)\n",
    "    def forward(self, x):\n",
    "        x = self.act(self.fc1(x))\n",
    "        x = self.act(self.fc2(x))\n",
    "        x = self.act(self.fc3(x))\n",
    "        x = self.dropout(x)\n",
    "        return self.fc4(x)"
   ]
  },
  {
   "cell_type": "code",
   "execution_count": 45,
   "metadata": {},
   "outputs": [],
   "source": [
    "net = cnn()"
   ]
  },
  {
   "cell_type": "code",
   "execution_count": 46,
   "metadata": {},
   "outputs": [
    {
     "name": "stdout",
     "output_type": "stream",
     "text": [
      "Epoch 1, Loss: 1.5962913036346436, Acc:0.97%, Test Acc: 23.95%\n",
      "Epoch 2, Loss: 1.565220832824707, Acc:23.92%, Test Acc: 72.16%\n",
      "Epoch 3, Loss: 1.5358904600143433, Acc:72.79%, Test Acc: 80.94%\n",
      "Epoch 4, Loss: 1.5060663223266602, Acc:80.58%, Test Acc: 79.02%\n",
      "Epoch 5, Loss: 1.4759315252304077, Acc:78.23%, Test Acc: 76.25%\n",
      "Epoch 6, Loss: 1.444663405418396, Acc:75.92%, Test Acc: 74.63%\n",
      "Epoch 7, Loss: 1.4115285873413086, Acc:75.01%, Test Acc: 74.03%\n",
      "Epoch 8, Loss: 1.376356601715088, Acc:74.27%, Test Acc: 73.63%\n",
      "Epoch 9, Loss: 1.3390611410140991, Acc:73.64%, Test Acc: 73.42%\n",
      "Epoch 10, Loss: 1.2990729808807373, Acc:73.47%, Test Acc: 73.63%\n",
      "Epoch 11, Loss: 1.2554795742034912, Acc:73.26%, Test Acc: 73.37%\n",
      "Epoch 12, Loss: 1.2086230516433716, Acc:73.29%, Test Acc: 73.02%\n",
      "Epoch 13, Loss: 1.1586161851882935, Acc:73.18%, Test Acc: 73.22%\n",
      "Epoch 14, Loss: 1.1053546667099, Acc:73.25%, Test Acc: 73.12%\n",
      "Epoch 15, Loss: 1.0493311882019043, Acc:73.23%, Test Acc: 73.07%\n",
      "Epoch 16, Loss: 0.9906779527664185, Acc:73.17%, Test Acc: 73.12%\n",
      "Epoch 17, Loss: 0.9303783774375916, Acc:73.16%, Test Acc: 73.07%\n",
      "Epoch 18, Loss: 0.8697947263717651, Acc:73.16%, Test Acc: 73.07%\n",
      "Epoch 19, Loss: 0.8109357953071594, Acc:73.16%, Test Acc: 73.07%\n",
      "Epoch 20, Loss: 0.7546820640563965, Acc:73.16%, Test Acc: 73.07%\n",
      "Epoch 21, Loss: 0.7026171684265137, Acc:73.16%, Test Acc: 73.07%\n",
      "Epoch 22, Loss: 0.6573427319526672, Acc:73.16%, Test Acc: 73.07%\n",
      "Epoch 23, Loss: 0.6185634136199951, Acc:73.16%, Test Acc: 73.07%\n",
      "Epoch 24, Loss: 0.5872356295585632, Acc:73.16%, Test Acc: 73.07%\n",
      "Epoch 25, Loss: 0.5624439120292664, Acc:73.16%, Test Acc: 73.07%\n",
      "Epoch 26, Loss: 0.5416906476020813, Acc:73.16%, Test Acc: 73.07%\n",
      "Epoch 27, Loss: 0.5255864262580872, Acc:73.16%, Test Acc: 73.07%\n",
      "Epoch 28, Loss: 0.5092572569847107, Acc:73.16%, Test Acc: 73.07%\n",
      "Epoch 29, Loss: 0.4929859936237335, Acc:73.16%, Test Acc: 73.42%\n",
      "Epoch 30, Loss: 0.47829461097717285, Acc:73.32%, Test Acc: 75.24%\n",
      "Epoch 31, Loss: 0.4634283483028412, Acc:75.09%, Test Acc: 80.08%\n",
      "Epoch 32, Loss: 0.4514003396034241, Acc:80.55%, Test Acc: 83.91%\n",
      "Epoch 33, Loss: 0.4426155388355255, Acc:84.86%, Test Acc: 86.28%\n",
      "Epoch 34, Loss: 0.4330673813819885, Acc:85.69%, Test Acc: 85.88%\n",
      "Epoch 35, Loss: 0.4223038852214813, Acc:85.79%, Test Acc: 86.13%\n",
      "Epoch 36, Loss: 0.40954676270484924, Acc:85.79%, Test Acc: 86.08%\n",
      "Epoch 37, Loss: 0.39748135209083557, Acc:85.89%, Test Acc: 85.83%\n",
      "Epoch 38, Loss: 0.39028728008270264, Acc:85.77%, Test Acc: 85.63%\n",
      "Epoch 39, Loss: 0.3814588487148285, Acc:85.91%, Test Acc: 85.93%\n",
      "Epoch 40, Loss: 0.37372660636901855, Acc:85.85%, Test Acc: 86.03%\n",
      "Epoch 41, Loss: 0.36766359210014343, Acc:85.97%, Test Acc: 86.03%\n",
      "Epoch 42, Loss: 0.3612063229084015, Acc:86.03%, Test Acc: 86.28%\n",
      "Epoch 43, Loss: 0.3582351505756378, Acc:86.11%, Test Acc: 86.23%\n",
      "Epoch 44, Loss: 0.3534660339355469, Acc:86.26%, Test Acc: 86.33%\n",
      "Epoch 45, Loss: 0.35258007049560547, Acc:86.33%, Test Acc: 86.33%\n",
      "Epoch 46, Loss: 0.351115882396698, Acc:86.37%, Test Acc: 86.33%\n",
      "Epoch 47, Loss: 0.3492203652858734, Acc:86.37%, Test Acc: 86.33%\n",
      "Epoch 48, Loss: 0.34758445620536804, Acc:86.38%, Test Acc: 86.33%\n",
      "Epoch 49, Loss: 0.3451641798019409, Acc:86.40%, Test Acc: 86.43%\n"
     ]
    },
    {
     "data": {
      "text/plain": [
       "<All keys matched successfully>"
      ]
     },
     "execution_count": 46,
     "metadata": {},
     "output_type": "execute_result"
    }
   ],
   "source": [
    "optimizer = optim.AdamW(net.parameters())\n",
    "criterion = nn.CrossEntropyLoss()\n",
    "\n",
    "losses = []\n",
    "\n",
    "max_test = 0\n",
    "best_params = net.state_dict()\n",
    "for epoch in range(1, 50):\n",
    "    optimizer.zero_grad()\n",
    "    outputs = net(X_train)\n",
    "    loss = criterion(outputs, y_train)\n",
    "    loss.backward()\n",
    "    optimizer.step()\n",
    "    losses.append(loss.item())\n",
    "    _, preds_y = torch.max(outputs, 1)\n",
    "    train_acc = accuracy_score(y_train, preds_y)\n",
    "    \n",
    "    pred_test = net(X_test)\n",
    "    _, preds_test_y = torch.max(pred_test, 1)\n",
    "    test_acc = accuracy_score(y_test, preds_test_y)\n",
    "    print(\"Epoch {}, Loss: {}, Acc:{:.2f}%, Test Acc: {:.2f}%\".format(epoch, loss.item(), \n",
    "                                                                      train_acc*100, test_acc * 100))\n",
    "    if test_acc > max_test:\n",
    "        max_test = test_acc\n",
    "        best_params = net.state_dict()\n",
    "net.load_state_dict(best_params)"
   ]
  },
  {
   "cell_type": "code",
   "execution_count": 47,
   "metadata": {},
   "outputs": [
    {
     "data": {
      "image/png": "[encoded data removed]",
      "text/plain": [
       "<Figure size 432x288 with 1 Axes>"
      ]
     },
     "metadata": {
      "needs_background": "light"
     },
     "output_type": "display_data"
    }
   ],
   "source": [
    "plt.plot(losses)\n",
    "\n",
    "pred_test = net(X_test)\n",
    "_, preds_y = torch.max(pred_test, 1)\n",
    "\n",
    "cnng_acc = accuracy_score(y_test, preds_y)\n",
    "cnng_prec = precision_score(y_test, preds_y,average='weighted')\n",
    "cnng_rec = recall_score(y_test, preds_y,average='weighted')\n",
    "cnng_f1 = f1_score(y_test, preds_y,average='weighted')"
   ]
  },
  {
   "cell_type": "code",
   "execution_count": 84,
   "metadata": {},
   "outputs": [],
   "source": [
    "storeResults('CNN-G',cnng_acc,cnng_prec,cnng_rec,cnng_f1)"
   ]
  },
  {
   "cell_type": "markdown",
   "metadata": {},
   "source": [
    "# DNN-G"
   ]
  },
  {
   "cell_type": "code",
   "execution_count": 48,
   "metadata": {},
   "outputs": [],
   "source": [
    "class dnn(nn.Module):\n",
    "    def __init__(self):\n",
    "        super(dnn, self).__init__()\n",
    "        self.fc1 = nn.Linear(10, 64)\n",
    "        self.fc2 = nn.Linear(64, 128)\n",
    "        self.fc3 = nn.Linear(128, 256)\n",
    "        self.fc4 = nn.Linear(256, 5)\n",
    "        self.act = nn.LeakyReLU()\n",
    "        self.dropout = nn.Dropout(0.1)\n",
    "    def forward(self, x):\n",
    "        x = self.act(self.fc1(x))\n",
    "        x = self.act(self.fc2(x))\n",
    "        x = self.act(self.fc3(x))\n",
    "        x = self.dropout(x)\n",
    "        return self.fc4(x)"
   ]
  },
  {
   "cell_type": "code",
   "execution_count": 49,
   "metadata": {},
   "outputs": [],
   "source": [
    "net = dnn()"
   ]
  },
  {
   "cell_type": "code",
   "execution_count": 50,
   "metadata": {},
   "outputs": [],
   "source": [
    "optimizer = optim.AdamW(net.parameters())\n",
    "criterion = nn.CrossEntropyLoss()"
   ]
  },
  {
   "cell_type": "code",
   "execution_count": 51,
   "metadata": {},
   "outputs": [],
   "source": [
    "losses = []"
   ]
  },
  {
   "cell_type": "code",
   "execution_count": 52,
   "metadata": {},
   "outputs": [
    {
     "name": "stdout",
     "output_type": "stream",
     "text": [
      "Epoch 1, Loss: 1.6404247283935547, Acc:26.39%, Test Acc: 26.93%\n",
      "Epoch 2, Loss: 1.608431339263916, Acc:26.83%, Test Acc: 26.93%\n",
      "Epoch 3, Loss: 1.576444387435913, Acc:26.84%, Test Acc: 26.98%\n",
      "Epoch 4, Loss: 1.5447204113006592, Acc:26.88%, Test Acc: 35.70%\n",
      "Epoch 5, Loss: 1.5121006965637207, Acc:35.64%, Test Acc: 73.73%\n",
      "Epoch 6, Loss: 1.4776906967163086, Acc:72.59%, Test Acc: 84.97%\n",
      "Epoch 7, Loss: 1.4414469003677368, Acc:84.82%, Test Acc: 86.13%\n",
      "Epoch 8, Loss: 1.4027444124221802, Acc:85.78%, Test Acc: 84.62%\n",
      "Epoch 9, Loss: 1.36241614818573, Acc:84.86%, Test Acc: 83.26%\n",
      "Epoch 10, Loss: 1.319383144378662, Acc:83.38%, Test Acc: 81.39%\n",
      "Epoch 11, Loss: 1.2742031812667847, Acc:81.45%, Test Acc: 79.63%\n",
      "Epoch 12, Loss: 1.2250293493270874, Acc:79.90%, Test Acc: 77.66%\n",
      "Epoch 13, Loss: 1.1723101139068604, Acc:78.50%, Test Acc: 77.00%\n",
      "Epoch 14, Loss: 1.116758942604065, Acc:76.79%, Test Acc: 75.64%\n",
      "Epoch 15, Loss: 1.0580469369888306, Acc:75.69%, Test Acc: 74.79%\n",
      "Epoch 16, Loss: 0.9966538548469543, Acc:74.63%, Test Acc: 73.68%\n",
      "Epoch 17, Loss: 0.9353964328765869, Acc:73.88%, Test Acc: 73.32%\n",
      "Epoch 18, Loss: 0.8720145225524902, Acc:73.39%, Test Acc: 73.12%\n",
      "Epoch 19, Loss: 0.8113731741905212, Acc:73.30%, Test Acc: 73.07%\n",
      "Epoch 20, Loss: 0.7533903121948242, Acc:73.17%, Test Acc: 73.07%\n",
      "Epoch 21, Loss: 0.6994670033454895, Acc:73.16%, Test Acc: 73.07%\n",
      "Epoch 22, Loss: 0.6531686186790466, Acc:73.16%, Test Acc: 73.07%\n",
      "Epoch 23, Loss: 0.6139465570449829, Acc:73.16%, Test Acc: 73.07%\n",
      "Epoch 24, Loss: 0.5816894173622131, Acc:73.16%, Test Acc: 73.07%\n",
      "Epoch 25, Loss: 0.5572534799575806, Acc:73.16%, Test Acc: 73.07%\n",
      "Epoch 26, Loss: 0.5362953543663025, Acc:73.16%, Test Acc: 73.07%\n",
      "Epoch 27, Loss: 0.5198054313659668, Acc:73.16%, Test Acc: 73.12%\n",
      "Epoch 28, Loss: 0.5029777884483337, Acc:73.20%, Test Acc: 73.37%\n",
      "Epoch 29, Loss: 0.48651424050331116, Acc:73.46%, Test Acc: 74.28%\n",
      "Epoch 30, Loss: 0.4725135266780853, Acc:74.21%, Test Acc: 76.45%\n",
      "Epoch 31, Loss: 0.4584723711013794, Acc:76.74%, Test Acc: 80.38%\n",
      "Epoch 32, Loss: 0.4469185173511505, Acc:80.23%, Test Acc: 85.53%\n",
      "Epoch 33, Loss: 0.43745577335357666, Acc:84.93%, Test Acc: 85.88%\n",
      "Epoch 34, Loss: 0.4306352138519287, Acc:85.97%, Test Acc: 86.23%\n",
      "Epoch 35, Loss: 0.42397546768188477, Acc:86.21%, Test Acc: 86.38%\n",
      "Epoch 36, Loss: 0.41416552662849426, Acc:86.28%, Test Acc: 86.38%\n",
      "Epoch 37, Loss: 0.40386757254600525, Acc:86.32%, Test Acc: 86.43%\n",
      "Epoch 38, Loss: 0.39501410722732544, Acc:86.25%, Test Acc: 86.43%\n",
      "Epoch 39, Loss: 0.38827624917030334, Acc:86.33%, Test Acc: 86.38%\n",
      "Epoch 40, Loss: 0.38271668553352356, Acc:86.21%, Test Acc: 86.38%\n",
      "Epoch 41, Loss: 0.37985455989837646, Acc:86.33%, Test Acc: 86.33%\n",
      "Epoch 42, Loss: 0.3766429126262665, Acc:86.33%, Test Acc: 86.38%\n",
      "Epoch 43, Loss: 0.37239599227905273, Acc:86.41%, Test Acc: 86.49%\n",
      "Epoch 44, Loss: 0.3677724599838257, Acc:86.43%, Test Acc: 86.54%\n",
      "Epoch 45, Loss: 0.36466655135154724, Acc:86.43%, Test Acc: 86.54%\n",
      "Epoch 46, Loss: 0.363172322511673, Acc:86.42%, Test Acc: 86.54%\n",
      "Epoch 47, Loss: 0.36198434233665466, Acc:86.41%, Test Acc: 86.49%\n",
      "Epoch 48, Loss: 0.35954228043556213, Acc:86.41%, Test Acc: 86.54%\n",
      "Epoch 49, Loss: 0.356198787689209, Acc:86.38%, Test Acc: 86.59%\n"
     ]
    },
    {
     "data": {
      "text/plain": [
       "<All keys matched successfully>"
      ]
     },
     "execution_count": 52,
     "metadata": {},
     "output_type": "execute_result"
    }
   ],
   "source": [
    "max_test = 0\n",
    "best_params = net.state_dict()\n",
    "for epoch in range(1, 50):\n",
    "    optimizer.zero_grad()\n",
    "    outputs = net(X_train)\n",
    "    loss = criterion(outputs, y_train)\n",
    "    loss.backward()\n",
    "    optimizer.step()\n",
    "    losses.append(loss.item())\n",
    "    _, preds_y = torch.max(outputs, 1)\n",
    "    train_acc = accuracy_score(y_train, preds_y)\n",
    "    \n",
    "    pred_test = net(X_test)\n",
    "    _, preds_test_y = torch.max(pred_test, 1)\n",
    "    test_acc = accuracy_score(y_test, preds_test_y)\n",
    "    print(\"Epoch {}, Loss: {}, Acc:{:.2f}%, Test Acc: {:.2f}%\".format(epoch, loss.item(), \n",
    "                                                                      train_acc*100, test_acc * 100))\n",
    "    if test_acc > max_test:\n",
    "        max_test = test_acc\n",
    "        best_params = net.state_dict()\n",
    "net.load_state_dict(best_params)"
   ]
  },
  {
   "cell_type": "code",
   "execution_count": 53,
   "metadata": {},
   "outputs": [
    {
     "data": {
      "text/plain": [
       "[<matplotlib.lines.Line2D at 0x28c58c0b608>]"
      ]
     },
     "execution_count": 53,
     "metadata": {},
     "output_type": "execute_result"
    },
    {
     "data": {
      "image/png": "[encoded data removed]",
      "text/plain": [
       "<Figure size 432x288 with 1 Axes>"
      ]
     },
     "metadata": {
      "needs_background": "light"
     },
     "output_type": "display_data"
    }
   ],
   "source": [
    "plt.plot(losses)"
   ]
  },
  {
   "cell_type": "code",
   "execution_count": 54,
   "metadata": {},
   "outputs": [],
   "source": [
    "pred_test = net(X_test)\n",
    "_, preds_y = torch.max(pred_test, 1)"
   ]
  },
  {
   "cell_type": "code",
   "execution_count": 55,
   "metadata": {},
   "outputs": [],
   "source": [
    "dnng_acc = accuracy_score(y_test, preds_y)\n",
    "dnng_prec = precision_score(y_test, preds_y,average='weighted')\n",
    "dnng_rec = recall_score(y_test, preds_y,average='weighted')\n",
    "dnng_f1 = f1_score(y_test, preds_y,average='weighted')"
   ]
  },
  {
   "cell_type": "code",
   "execution_count": 85,
   "metadata": {},
   "outputs": [],
   "source": [
    "storeResults('DNN-G',dnng_acc,dnng_prec,dnng_rec,dnng_f1)"
   ]
  },
  {
   "cell_type": "markdown",
   "metadata": {},
   "source": [
    "# CNN"
   ]
  },
  {
   "cell_type": "code",
   "execution_count": 56,
   "metadata": {},
   "outputs": [],
   "source": [
    "from tensorflow.keras.models import Sequential\n",
    "from tensorflow.keras.layers import Dense\n",
    "from tensorflow.keras.models import Model, load_model\n",
    "from tensorflow.keras.utils import to_categorical\n",
    "from tensorflow.keras.layers import Dropout\n",
    "from tensorflow.keras.layers import Flatten\n",
    "from tensorflow.keras.layers import Conv1D\n",
    "from tensorflow.keras.layers import MaxPooling1D"
   ]
  },
  {
   "cell_type": "code",
   "execution_count": 58,
   "metadata": {},
   "outputs": [],
   "source": [
    "X_train, X_test, y_train, y_test = train_test_split(X, y, test_size = 0.2)"
   ]
  },
  {
   "cell_type": "code",
   "execution_count": 60,
   "metadata": {},
   "outputs": [],
   "source": [
    "X_train=X_train.values\n",
    "X_test=X_test.values\n",
    "\n",
    "X_train = X_train.reshape(-1, X_train.shape[1],1)\n",
    "X_test = X_test.reshape(-1, X_test.shape[1],1)\n",
    "\n",
    "Y_train=to_categorical(y_train)\n",
    "Y_test=to_categorical(y_test)"
   ]
  },
  {
   "cell_type": "code",
   "execution_count": 61,
   "metadata": {},
   "outputs": [
    {
     "name": "stdout",
     "output_type": "stream",
     "text": [
      "Model: \"sequential\"\n",
      "_________________________________________________________________\n",
      "Layer (type)                 Output Shape              Param #   \n",
      "=================================================================\n",
      "conv1d (Conv1D)              (None, 9, 128)            384       \n",
      "_________________________________________________________________\n",
      "max_pooling1d (MaxPooling1D) (None, 4, 128)            0         \n",
      "_________________________________________________________________\n",
      "dropout (Dropout)            (None, 4, 128)            0         \n",
      "_________________________________________________________________\n",
      "flatten (Flatten)            (None, 512)               0         \n",
      "_________________________________________________________________\n",
      "dense (Dense)                (None, 2)                 1026      \n",
      "=================================================================\n",
      "Total params: 1,410\n",
      "Trainable params: 1,410\n",
      "Non-trainable params: 0\n",
      "_________________________________________________________________\n"
     ]
    }
   ],
   "source": [
    "verbose, epoch, batch_size = 1, 100, 32\n",
    "activationFunction='relu'\n",
    "\n",
    "def CNN():\n",
    "    \n",
    "    cnnmodel = Sequential()\n",
    "    cnnmodel.add(Conv1D(filters=128, kernel_size=2, activation='relu',input_shape=(X_train.shape[1],X_train.shape[2])))\n",
    "    cnnmodel.add(MaxPooling1D(pool_size=2))\n",
    "    cnnmodel.add(Dropout(rate=0.2))\n",
    "    cnnmodel.add(Flatten())\n",
    "    cnnmodel.add(Dense(2, activation='softmax'))\n",
    "    cnnmodel.compile(optimizer='adam', loss='categorical_crossentropy',metrics=['accuracy'])\n",
    "    cnnmodel.summary()\n",
    "    return cnnmodel\n",
    "\n",
    "cnnmodel = CNN()"
   ]
  },
  {
   "cell_type": "code",
   "execution_count": 62,
   "metadata": {},
   "outputs": [
    {
     "name": "stdout",
     "output_type": "stream",
     "text": [
      "Epoch 1/5\n",
      "199/199 [==============================] - 6s 8ms/step - loss: 353.9929 - accuracy: 0.7638 - val_loss: 114.0455 - val_accuracy: 0.8822\n",
      "Epoch 2/5\n",
      "199/199 [==============================] - 1s 7ms/step - loss: 145.6971 - accuracy: 0.8270 - val_loss: 89.1671 - val_accuracy: 0.8922\n",
      "Epoch 3/5\n",
      "199/199 [==============================] - 1s 7ms/step - loss: 85.7824 - accuracy: 0.8438 - val_loss: 17.2407 - val_accuracy: 0.7984\n",
      "Epoch 4/5\n",
      "199/199 [==============================] - 1s 7ms/step - loss: 47.5437 - accuracy: 0.8526 - val_loss: 13.8192 - val_accuracy: 0.9074\n",
      "Epoch 5/5\n",
      "199/199 [==============================] - 1s 7ms/step - loss: 27.1877 - accuracy: 0.8706 - val_loss: 15.1886 - val_accuracy: 0.9093\n"
     ]
    }
   ],
   "source": [
    "modelhistory = cnnmodel.fit(X_train, Y_train, epochs=5, verbose=verbose, validation_split=0.2, batch_size = batch_size)"
   ]
  },
  {
   "cell_type": "code",
   "execution_count": 63,
   "metadata": {},
   "outputs": [
    {
     "data": {
      "image/png": "[encoded data removed]",
      "text/plain": [
       "<Figure size 432x288 with 1 Axes>"
      ]
     },
     "metadata": {
      "needs_background": "light"
     },
     "output_type": "display_data"
    },
    {
     "data": {
      "image/png": "[encoded data removed]",
      "text/plain": [
       "<Figure size 432x288 with 1 Axes>"
      ]
     },
     "metadata": {
      "needs_background": "light"
     },
     "output_type": "display_data"
    }
   ],
   "source": [
    "# Plot of accuracy vs epoch for train and test dataset\n",
    "plt.plot(modelhistory.history['accuracy'])\n",
    "plt.plot(modelhistory.history['val_accuracy'])\n",
    "plt.title(\"Plot of accuracy vs epoch for train and test dataset\")\n",
    "plt.ylabel('accuracy')\n",
    "plt.xlabel('epoch')\n",
    "plt.show()\n",
    "\n",
    "# Plot of loss vs epoch for train and test dataset\n",
    "plt.plot(modelhistory.history['loss'])\n",
    "plt.plot(modelhistory.history['val_loss'])\n",
    "plt.title(\"Plot of loss vs epoch for train and test dataset\")\n",
    "plt.ylabel('loss')\n",
    "plt.xlabel('epoch')\n",
    "plt.legend(['train', 'test'], loc='upper right')\n",
    "plt.show()"
   ]
  },
  {
   "cell_type": "code",
   "execution_count": 64,
   "metadata": {},
   "outputs": [
    {
     "name": "stdout",
     "output_type": "stream",
     "text": [
      "62/62 [==============================] - 0s 2ms/step\n",
      "62/62 [==============================] - 0s 2ms/step\n"
     ]
    }
   ],
   "source": [
    "cnnpredictions = cnnmodel.predict(X_test, verbose=1)\n",
    "cnn_predict=np.argmax(cnnpredictions,axis=1)\n",
    "\n",
    "y_pred = cnnmodel.predict(X_test, verbose=1)\n",
    "y_pred = np.argmax(y_pred,axis=1)\n",
    "\n",
    "#y_prob = cnnmodel.predict_proba(X_test)[:, 1]\n",
    "\n",
    "cnn_acc = accuracy_score(y_pred, y_test)\n",
    "cnn_prec = precision_score(y_pred, y_test,average='weighted')\n",
    "cnn_rec = recall_score(y_pred, y_test,average='weighted')\n",
    "cnn_f1 = f1_score(y_pred, y_test,average='weighted')"
   ]
  },
  {
   "cell_type": "code",
   "execution_count": 86,
   "metadata": {},
   "outputs": [],
   "source": [
    "storeResults('CNN',cnn_acc,cnn_prec,cnn_rec,cnn_f1)"
   ]
  },
  {
   "cell_type": "markdown",
   "metadata": {},
   "source": [
    "# LSTM"
   ]
  },
  {
   "cell_type": "code",
   "execution_count": 65,
   "metadata": {},
   "outputs": [
    {
     "name": "stdout",
     "output_type": "stream",
     "text": [
      "WARNING:tensorflow:Layer lstm will not use cuDNN kernels since it doesn't meet the criteria. It will use a generic GPU kernel as fallback when running on GPU.\n",
      "WARNING:tensorflow:Layer lstm_1 will not use cuDNN kernels since it doesn't meet the criteria. It will use a generic GPU kernel as fallback when running on GPU.\n",
      "WARNING:tensorflow:Layer lstm_2 will not use cuDNN kernels since it doesn't meet the criteria. It will use a generic GPU kernel as fallback when running on GPU.\n",
      "WARNING:tensorflow:Layer lstm_3 will not use cuDNN kernels since it doesn't meet the criteria. It will use a generic GPU kernel as fallback when running on GPU.\n"
     ]
    }
   ],
   "source": [
    "from keras.models import Sequential\n",
    "from keras.layers import Dense, LSTM\n",
    "from keras.layers import Dropout\n",
    "from keras import regularizers\n",
    "import tensorflow as tf\n",
    "\n",
    "# define a function to build the keras model\n",
    "def create_model(input_shape):\n",
    "    # create model\n",
    "    d = 0.25\n",
    "    model = Sequential()\n",
    "    \n",
    "    model.add(LSTM(32, input_shape=input_shape, activation='relu', return_sequences=True))\n",
    "    model.add(Dropout(d))\n",
    "\n",
    "    model.add(LSTM(64, input_shape=input_shape, activation='relu', return_sequences=True))\n",
    "    model.add(Dropout(d))\n",
    "        \n",
    "    model.add(LSTM(128, input_shape=input_shape, activation='relu', return_sequences=True))\n",
    "    model.add(Dropout(d))\n",
    "\n",
    "    model.add(LSTM(256, input_shape=input_shape, activation='relu', return_sequences=False))\n",
    "    model.add(Dropout(d))\n",
    "   \n",
    "    model.add(Dense(32,kernel_initializer=\"uniform\",activation='relu'))        \n",
    "    model.add(Dense(1,kernel_initializer=\"uniform\",activation='linear'))\n",
    "    \n",
    "    # compile model\n",
    "    adam = tf.keras.optimizers.Adam(learning_rate=0.001, decay=0.00001)\n",
    "    #model.compile(loss='mse', optimizer='adam', metrics=['accuracy'])\n",
    "    model.compile(loss='categorical_crossentropy', optimizer='adam', metrics=['accuracy'])\n",
    "    #model.compile(loss='binary_crossentropy', optimizer='adam', metrics=['accuracy'])\n",
    "    return model\n",
    "\n",
    "model = create_model(input_shape=(14,1))\n",
    "#print(model.summary())"
   ]
  },
  {
   "cell_type": "code",
   "execution_count": 66,
   "metadata": {},
   "outputs": [
    {
     "name": "stdout",
     "output_type": "stream",
     "text": [
      "Epoch 1/5\n",
      "WARNING:tensorflow:Model was constructed with shape (None, 14, 1) for input KerasTensor(type_spec=TensorSpec(shape=(None, 14, 1), dtype=tf.float32, name='lstm_input'), name='lstm_input', description=\"created by layer 'lstm_input'\"), but it was called on an input with incompatible shape (None, 10, 1).\n",
      "WARNING:tensorflow:Model was constructed with shape (None, 14, 1) for input KerasTensor(type_spec=TensorSpec(shape=(None, 14, 1), dtype=tf.float32, name='lstm_input'), name='lstm_input', description=\"created by layer 'lstm_input'\"), but it was called on an input with incompatible shape (None, 10, 1).\n",
      "248/248 [==============================] - ETA: 0s - loss: 8.7213e-08 - accuracy: 0.5977WARNING:tensorflow:Model was constructed with shape (None, 14, 1) for input KerasTensor(type_spec=TensorSpec(shape=(None, 14, 1), dtype=tf.float32, name='lstm_input'), name='lstm_input', description=\"created by layer 'lstm_input'\"), but it was called on an input with incompatible shape (None, 10, 1).\n",
      "248/248 [==============================] - 76s 236ms/step - loss: 8.7213e-08 - accuracy: 0.5977 - val_loss: 8.6807e-08 - val_accuracy: 0.5477\n",
      "Epoch 2/5\n",
      "248/248 [==============================] - 52s 209ms/step - loss: 8.8272e-08 - accuracy: 0.6064 - val_loss: 8.6807e-08 - val_accuracy: 0.5477\n",
      "Epoch 3/5\n",
      "248/248 [==============================] - 52s 208ms/step - loss: 8.7627e-08 - accuracy: 0.5833 - val_loss: 8.6807e-08 - val_accuracy: 0.5477\n",
      "Epoch 4/5\n",
      "248/248 [==============================] - 52s 209ms/step - loss: 8.7909e-08 - accuracy: 0.6054 - val_loss: 8.6807e-08 - val_accuracy: 0.5477\n",
      "Epoch 5/5\n",
      "248/248 [==============================] - 52s 208ms/step - loss: 8.7652e-08 - accuracy: 0.6141 - val_loss: 8.6807e-08 - val_accuracy: 0.5477\n"
     ]
    }
   ],
   "source": [
    "history=model.fit(X_train, y_train, validation_data=(X_test, y_test),epochs=5, batch_size=32, verbose=1)"
   ]
  },
  {
   "cell_type": "code",
   "execution_count": 67,
   "metadata": {},
   "outputs": [
    {
     "data": {
      "image/png": "[encoded data removed]",
      "text/plain": [
       "<Figure size 432x288 with 1 Axes>"
      ]
     },
     "metadata": {
      "needs_background": "light"
     },
     "output_type": "display_data"
    },
    {
     "data": {
      "image/png": "[encoded data removed]",
      "text/plain": [
       "<Figure size 432x288 with 1 Axes>"
      ]
     },
     "metadata": {
      "needs_background": "light"
     },
     "output_type": "display_data"
    },
    {
     "name": "stdout",
     "output_type": "stream",
     "text": [
      "WARNING:tensorflow:Model was constructed with shape (None, 14, 1) for input KerasTensor(type_spec=TensorSpec(shape=(None, 14, 1), dtype=tf.float32, name='lstm_input'), name='lstm_input', description=\"created by layer 'lstm_input'\"), but it was called on an input with incompatible shape (None, 10, 1).\n",
      "62/62 [==============================] - 3s 30ms/step\n"
     ]
    }
   ],
   "source": [
    "# Plot training & validation loss values\n",
    "plt.plot(history.history['loss'])\n",
    "plt.plot(history.history['val_loss'])\n",
    "plt.title('Model loss')\n",
    "plt.ylabel('Loss')\n",
    "plt.xlabel('Epoch')\n",
    "plt.legend(['Train', 'Validation'], loc='upper left')\n",
    "plt.savefig('loss.png', format='png', dpi=1200)\n",
    "plt.show()\n",
    "\n",
    "\n",
    "# Plot training & validation accuracy values\n",
    "plt.plot(history.history['accuracy'])\n",
    "plt.plot(history.history['val_accuracy'])\n",
    "plt.title('Model accuracy')\n",
    "plt.ylabel('Accuracy')\n",
    "plt.xlabel('Epoch')\n",
    "plt.legend(['Train', 'Validation'], loc='upper left')\n",
    "plt.savefig('accuracy.png', format='png', dpi=1200)\n",
    "plt.show()\n",
    "\n",
    "y_pred = model.predict(X_test, verbose=1)\n",
    "y_pred = np.argmax(y_pred,axis=1)\n",
    "\n",
    "\n",
    "#y_prob = cnnmodel.predict_proba(X_test)[:, 1]\n",
    "\n",
    "lstm_acc = accuracy_score(y_pred, y_test)\n",
    "lstm_prec = precision_score(y_pred, y_test,average='weighted')\n",
    "lstm_rec = recall_score(y_pred, y_test,average='weighted')\n",
    "lstm_f1 = f1_score(y_pred, y_test,average='weighted')\n",
    "\n",
    "#storeResults('LSTM',dl_acc,dl_prec,dl_rec,dl_f1)"
   ]
  },
  {
   "cell_type": "code",
   "execution_count": 87,
   "metadata": {},
   "outputs": [],
   "source": [
    "storeResults('LSTM',lstm_acc,lstm_prec,lstm_rec,lstm_f1)"
   ]
  },
  {
   "cell_type": "markdown",
   "metadata": {},
   "source": [
    "# DNN"
   ]
  },
  {
   "cell_type": "code",
   "execution_count": 68,
   "metadata": {},
   "outputs": [],
   "source": [
    "from keras.layers import Activation, Dense, Dropout, BatchNormalization, Input\n",
    "from keras.models import Model\n",
    "from keras.callbacks import ReduceLROnPlateau, EarlyStopping"
   ]
  },
  {
   "cell_type": "code",
   "execution_count": 69,
   "metadata": {},
   "outputs": [],
   "source": [
    "X_train, X_test, y_train, y_test = train_test_split(X, y, test_size=0.33, random_state=1)"
   ]
  },
  {
   "cell_type": "code",
   "execution_count": 70,
   "metadata": {},
   "outputs": [],
   "source": [
    "n_inputs = X_train.shape[1]"
   ]
  },
  {
   "cell_type": "code",
   "execution_count": 71,
   "metadata": {},
   "outputs": [],
   "source": [
    "from sklearn.preprocessing import MinMaxScaler\n",
    "t = MinMaxScaler()\n",
    "t.fit(X_train)\n",
    "X_train = t.transform(X_train)\n",
    "X_test = t.transform(X_test)"
   ]
  },
  {
   "cell_type": "code",
   "execution_count": 72,
   "metadata": {},
   "outputs": [],
   "source": [
    "from tensorflow.keras.models import Model\n",
    "from tensorflow.keras.layers import Input\n",
    "from tensorflow.keras.layers import Dense\n",
    "from tensorflow.keras.layers import LeakyReLU\n",
    "from tensorflow.keras.layers import BatchNormalization\n",
    "\n",
    "# define encoder\n",
    "visible = Input(shape=(n_inputs,))\n",
    "\n",
    "# encoder level 1\n",
    "e = Dense(n_inputs * 2)(visible)\n",
    "e = BatchNormalization()(e)\n",
    "e = LeakyReLU()(e)\n",
    "\n",
    "# encoder level 2\n",
    "e = Dense(n_inputs)(e)\n",
    "e = BatchNormalization()(e)\n",
    "e = LeakyReLU()(e)\n",
    "\n",
    "# bottleneck\n",
    "n_bottleneck = n_inputs\n",
    "bottleneck = Dense(n_bottleneck)(e)"
   ]
  },
  {
   "cell_type": "code",
   "execution_count": 73,
   "metadata": {},
   "outputs": [],
   "source": [
    "# define decoder, level 1\n",
    "d = Dense(n_inputs)(bottleneck)\n",
    "d = BatchNormalization()(d)\n",
    "d = LeakyReLU()(d)\n",
    "\n",
    "# decoder level 2\n",
    "d = Dense(n_inputs*2)(d)\n",
    "d = BatchNormalization()(d)\n",
    "d = LeakyReLU()(d)\n",
    "\n",
    "# output layer\n",
    "output = Dense(n_inputs, activation='linear')(d)"
   ]
  },
  {
   "cell_type": "code",
   "execution_count": 74,
   "metadata": {},
   "outputs": [],
   "source": [
    "# define autoencoder model\n",
    "model = Model(inputs=visible, outputs=output)"
   ]
  },
  {
   "cell_type": "code",
   "execution_count": 75,
   "metadata": {},
   "outputs": [],
   "source": [
    "# compile autoencoder model\n",
    "model.compile(optimizer='adam', loss='mse')"
   ]
  },
  {
   "cell_type": "code",
   "execution_count": 76,
   "metadata": {},
   "outputs": [],
   "source": [
    "history = model.fit(X_train, X_train, epochs=5, batch_size=32, verbose=0, validation_data=(X_test,X_test))"
   ]
  },
  {
   "cell_type": "code",
   "execution_count": 77,
   "metadata": {},
   "outputs": [
    {
     "data": {
      "image/png": "[encoded data removed]",
      "text/plain": [
       "<Figure size 432x288 with 1 Axes>"
      ]
     },
     "metadata": {
      "needs_background": "light"
     },
     "output_type": "display_data"
    }
   ],
   "source": [
    "from tensorflow.keras.utils import plot_model\n",
    "from matplotlib import pyplot\n",
    "\n",
    "# plot loss\n",
    "pyplot.plot(history.history['loss'], label='train')\n",
    "pyplot.plot(history.history['val_loss'], label='test')\n",
    "pyplot.legend()\n",
    "pyplot.show()"
   ]
  },
  {
   "cell_type": "code",
   "execution_count": 78,
   "metadata": {},
   "outputs": [
    {
     "name": "stdout",
     "output_type": "stream",
     "text": [
      "('You must install pydot (`pip install pydot`) and install graphviz (see instructions at https://graphviz.gitlab.io/download/) ', 'for plot_model/model_to_dot to work.')\n",
      "WARNING:tensorflow:Compiled the loaded model, but the compiled metrics have yet to be built. `model.compile_metrics` will be empty until you train or evaluate the model.\n"
     ]
    }
   ],
   "source": [
    "# define an encoder model (without the decoder)\n",
    "encoder = Model(inputs=visible, outputs=bottleneck)\n",
    "plot_model(encoder, 'encoder_compress.png', show_shapes=True)\n",
    "\n",
    "# save the encoder to file\n",
    "encoder.save('encoder2.h5')"
   ]
  },
  {
   "cell_type": "code",
   "execution_count": 79,
   "metadata": {},
   "outputs": [],
   "source": [
    "# encode the train data\n",
    "X_train_encode = encoder.predict(X_train)\n",
    "# encode the test data\n",
    "X_test_encode = encoder.predict(X_test)\n",
    "## So effectively , its like dimensinality reduction or feature extraction\n",
    "\n",
    "# define the model\n",
    "from sklearn.neural_network import MLPClassifier\n",
    "model = MLPClassifier(random_state=1, max_iter=300)  \n",
    "## specifying max_iter = 200 , to avoid the CONVERGENCE WARNING\n",
    "## Why do we get CONVERGENCE WARNING ?\n",
    "## because the model has converged already , but our loop is still training ovwr many epochs.\n",
    "## Reduce the epochs\n",
    "\n",
    "# fit the model on the training set\n",
    "model.fit(X_train_encode, y_train)\n",
    "\n",
    "# make predictions on the test set\n",
    "yhat = model.predict(X_test_encode)\n",
    "\n",
    "# calculate classification accuracy\n",
    "acc = accuracy_score(y_test, yhat)"
   ]
  },
  {
   "cell_type": "code",
   "execution_count": 80,
   "metadata": {},
   "outputs": [],
   "source": [
    "dnn_acc = accuracy_score(y_test, yhat)\n",
    "dnn_prec = precision_score(y_test, yhat,average='weighted')\n",
    "dnn_rec = recall_score(y_test, yhat,average='weighted')\n",
    "dnn_f1 = f1_score(y_test, yhat,average='weighted')"
   ]
  },
  {
   "cell_type": "code",
   "execution_count": 88,
   "metadata": {},
   "outputs": [],
   "source": [
    "storeResults('DNN',dnn_acc,dnn_prec,dnn_rec,dnn_f1)"
   ]
  },
  {
   "cell_type": "markdown",
   "metadata": {},
   "source": [
    "# Comparison"
   ]
  },
  {
   "cell_type": "code",
   "execution_count": 103,
   "metadata": {},
   "outputs": [],
   "source": [
    "#creating dataframe\n",
    "import pandas as pd\n",
    "import numpy as np\n",
    "result = pd.DataFrame({ 'ML Model' : ML_Model,\n",
    "                        'Accuracy' : accuracy,\n",
    "                        'f1_score' : f1score,\n",
    "                        'Recall'   : recall,\n",
    "                        'Precision': precision,\n",
    "                        \n",
    "                      })"
   ]
  },
  {
   "cell_type": "code",
   "execution_count": 104,
   "metadata": {},
   "outputs": [
    {
     "data": {
      "text/html": [
       "<div>\n",
       "<style scoped>\n",
       "    .dataframe tbody tr th:only-of-type {\n",
       "        vertical-align: middle;\n",
       "    }\n",
       "\n",
       "    .dataframe tbody tr th {\n",
       "        vertical-align: top;\n",
       "    }\n",
       "\n",
       "    .dataframe thead th {\n",
       "        text-align: right;\n",
       "    }\n",
       "</style>\n",
       "<table border=\"1\" class=\"dataframe\">\n",
       "  <thead>\n",
       "    <tr style=\"text-align: right;\">\n",
       "      <th></th>\n",
       "      <th>ML Model</th>\n",
       "      <th>Accuracy</th>\n",
       "      <th>f1_score</th>\n",
       "      <th>Recall</th>\n",
       "      <th>Precision</th>\n",
       "    </tr>\n",
       "  </thead>\n",
       "  <tbody>\n",
       "    <tr>\n",
       "      <th>0</th>\n",
       "      <td>SVM</td>\n",
       "      <td>0.912</td>\n",
       "      <td>0.918</td>\n",
       "      <td>0.912</td>\n",
       "      <td>0.938</td>\n",
       "    </tr>\n",
       "    <tr>\n",
       "      <th>1</th>\n",
       "      <td>DT</td>\n",
       "      <td>0.997</td>\n",
       "      <td>0.997</td>\n",
       "      <td>0.997</td>\n",
       "      <td>0.997</td>\n",
       "    </tr>\n",
       "    <tr>\n",
       "      <th>2</th>\n",
       "      <td>LSTM-G</td>\n",
       "      <td>0.865</td>\n",
       "      <td>0.863</td>\n",
       "      <td>0.865</td>\n",
       "      <td>0.862</td>\n",
       "    </tr>\n",
       "    <tr>\n",
       "      <th>3</th>\n",
       "      <td>CNN-G</td>\n",
       "      <td>0.864</td>\n",
       "      <td>0.862</td>\n",
       "      <td>0.864</td>\n",
       "      <td>0.861</td>\n",
       "    </tr>\n",
       "    <tr>\n",
       "      <th>4</th>\n",
       "      <td>DNN-G</td>\n",
       "      <td>0.865</td>\n",
       "      <td>0.863</td>\n",
       "      <td>0.865</td>\n",
       "      <td>0.862</td>\n",
       "    </tr>\n",
       "    <tr>\n",
       "      <th>5</th>\n",
       "      <td>CNN</td>\n",
       "      <td>0.913</td>\n",
       "      <td>0.918</td>\n",
       "      <td>0.913</td>\n",
       "      <td>0.939</td>\n",
       "    </tr>\n",
       "    <tr>\n",
       "      <th>6</th>\n",
       "      <td>LSTM</td>\n",
       "      <td>0.272</td>\n",
       "      <td>0.427</td>\n",
       "      <td>0.272</td>\n",
       "      <td>1.000</td>\n",
       "    </tr>\n",
       "    <tr>\n",
       "      <th>7</th>\n",
       "      <td>DNN</td>\n",
       "      <td>0.941</td>\n",
       "      <td>0.939</td>\n",
       "      <td>0.941</td>\n",
       "      <td>0.942</td>\n",
       "    </tr>\n",
       "    <tr>\n",
       "      <th>8</th>\n",
       "      <td>Voting Classifier</td>\n",
       "      <td>0.997</td>\n",
       "      <td>0.997</td>\n",
       "      <td>0.997</td>\n",
       "      <td>0.997</td>\n",
       "    </tr>\n",
       "    <tr>\n",
       "      <th>9</th>\n",
       "      <td>Stacking Classifier</td>\n",
       "      <td>1.000</td>\n",
       "      <td>1.000</td>\n",
       "      <td>1.000</td>\n",
       "      <td>1.000</td>\n",
       "    </tr>\n",
       "  </tbody>\n",
       "</table>\n",
       "</div>"
      ],
      "text/plain": [
       "              ML Model  Accuracy  f1_score  Recall  Precision\n",
       "0                  SVM     0.912     0.918   0.912      0.938\n",
       "1                   DT     0.997     0.997   0.997      0.997\n",
       "2               LSTM-G     0.865     0.863   0.865      0.862\n",
       "3                CNN-G     0.864     0.862   0.864      0.861\n",
       "4                DNN-G     0.865     0.863   0.865      0.862\n",
       "5                  CNN     0.913     0.918   0.913      0.939\n",
       "6                 LSTM     0.272     0.427   0.272      1.000\n",
       "7                  DNN     0.941     0.939   0.941      0.942\n",
       "8    Voting Classifier     0.997     0.997   0.997      0.997\n",
       "9  Stacking Classifier     1.000     1.000   1.000      1.000"
      ]
     },
     "execution_count": 104,
     "metadata": {},
     "output_type": "execute_result"
    }
   ],
   "source": [
    "result"
   ]
  },
  {
   "cell_type": "markdown",
   "metadata": {},
   "source": [
    "# Modelling"
   ]
  },
  {
   "cell_type": "code",
   "execution_count": 105,
   "metadata": {},
   "outputs": [
    {
     "data": {
      "text/plain": [
       "['model_iot.sav']"
      ]
     },
     "execution_count": 105,
     "metadata": {},
     "output_type": "execute_result"
    }
   ],
   "source": [
    "import joblib\n",
    "filename = 'model_iot.sav'\n",
    "joblib.dump(clf1, filename)"
   ]
  },
  {
   "cell_type": "markdown",
   "metadata": {},
   "source": [
    "# Graph"
   ]
  },
  {
   "cell_type": "code",
   "execution_count": 106,
   "metadata": {},
   "outputs": [],
   "source": [
    "classifier = ML_Model\n",
    "y_pos = np.arange(len(classifier))"
   ]
  },
  {
   "cell_type": "markdown",
   "metadata": {},
   "source": [
    "# Accuracy"
   ]
  },
  {
   "cell_type": "code",
   "execution_count": 107,
   "metadata": {},
   "outputs": [
    {
     "data": {
      "image/png": "[encoded data removed]",
      "text/plain": [
       "<Figure size 432x288 with 1 Axes>"
      ]
     },
     "metadata": {
      "needs_background": "light"
     },
     "output_type": "display_data"
    }
   ],
   "source": [
    "import matplotlib.pyplot as plt2\n",
    "plt2.barh(y_pos, accuracy, align='center', alpha=0.5,color='blue')\n",
    "plt2.yticks(y_pos, classifier)\n",
    "plt2.xlabel('Accuracy Score')\n",
    "plt2.title('Classification Performance')\n",
    "plt2.show()"
   ]
  },
  {
   "cell_type": "markdown",
   "metadata": {},
   "source": [
    "# Precision"
   ]
  },
  {
   "cell_type": "code",
   "execution_count": 108,
   "metadata": {},
   "outputs": [
    {
     "data": {
      "image/png": "[encoded data removed]",
      "text/plain": [
       "<Figure size 432x288 with 1 Axes>"
      ]
     },
     "metadata": {
      "needs_background": "light"
     },
     "output_type": "display_data"
    }
   ],
   "source": [
    "import matplotlib.pyplot as plt2\n",
    "plt2.barh(y_pos, precision, align='center', alpha=0.5,color='red')\n",
    "plt2.yticks(y_pos, classifier)\n",
    "plt2.xlabel('Precision Score')\n",
    "plt2.title('Classification Performance')\n",
    "plt2.show()"
   ]
  },
  {
   "cell_type": "markdown",
   "metadata": {},
   "source": [
    "# Recall"
   ]
  },
  {
   "cell_type": "code",
   "execution_count": 109,
   "metadata": {},
   "outputs": [
    {
     "data": {
      "image/png": "[encoded data removed]",
      "text/plain": [
       "<Figure size 432x288 with 1 Axes>"
      ]
     },
     "metadata": {
      "needs_background": "light"
     },
     "output_type": "display_data"
    }
   ],
   "source": [
    "import matplotlib.pyplot as plt2\n",
    "plt2.barh(y_pos, recall, align='center', alpha=0.5,color='yellow')\n",
    "plt2.yticks(y_pos, classifier)\n",
    "plt2.xlabel('Recall Score')\n",
    "plt2.title('Classification Performance')\n",
    "plt2.show()"
   ]
  },
  {
   "cell_type": "markdown",
   "metadata": {},
   "source": [
    "# F1 SCore"
   ]
  },
  {
   "cell_type": "code",
   "execution_count": 110,
   "metadata": {},
   "outputs": [
    {
     "data": {
      "image/png": "[encoded data removed]",
      "text/plain": [
       "<Figure size 432x288 with 1 Axes>"
      ]
     },
     "metadata": {
      "needs_background": "light"
     },
     "output_type": "display_data"
    }
   ],
   "source": [
    "import matplotlib.pyplot as plt2\n",
    "plt2.barh(y_pos, f1score, align='center', alpha=0.5,color='navy')\n",
    "plt2.yticks(y_pos, classifier)\n",
    "plt2.xlabel('F1 Score')\n",
    "plt2.title('Classification Performance')\n",
    "plt2.show()"
   ]
  },
  {
   "cell_type": "code",
   "execution_count": null,
   "metadata": {},
   "outputs": [],
   "source": []
  }
 ],
 "metadata": {
  "kernelspec": {
   "display_name": "Python 3",
   "language": "python",
   "name": "python3"
  },
  "language_info": {
   "codemirror_mode": {
    "name": "ipython",
    "version": 3
   },
   "file_extension": ".py",
   "mimetype": "text/x-python",
   "name": "python",
   "nbconvert_exporter": "python",
   "pygments_lexer": "ipython3",
   "version": "3.7.4"
  }
 },
 "nbformat": 4,
 "nbformat_minor": 2
}
