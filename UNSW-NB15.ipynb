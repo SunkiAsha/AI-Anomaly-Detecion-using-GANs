{
 "cells": [
  {
   "cell_type": "code",
   "execution_count": 1,
   "metadata": {},
   "outputs": [],
   "source": [
    "import warnings\n",
    "warnings.filterwarnings('ignore')"
   ]
  },
  {
   "cell_type": "code",
   "execution_count": 2,
   "metadata": {},
   "outputs": [],
   "source": [
    "import numpy as np\n",
    "import pandas as pd\n",
    "import pickle # saving and loading trained model\n",
    "from os import path\n",
    "\n",
    "# importing required libraries for normalizing data\n",
    "from sklearn import preprocessing\n",
    "from sklearn.preprocessing import (StandardScaler, OrdinalEncoder,LabelEncoder, MinMaxScaler, OneHotEncoder)\n",
    "from sklearn.preprocessing import Normalizer, MaxAbsScaler , RobustScaler, PowerTransformer\n",
    "\n",
    "# importing library for plotting\n",
    "import matplotlib.pyplot as plt\n",
    "import seaborn as sns"
   ]
  },
  {
   "cell_type": "code",
   "execution_count": 3,
   "metadata": {},
   "outputs": [
    {
     "name": "stdout",
     "output_type": "stream",
     "text": [
      "1 Physical GPU, 2 Logical GPUs\n"
     ]
    }
   ],
   "source": [
    "import tensorflow as tf\n",
    "gpus = tf.config.list_physical_devices('GPU')\n",
    "if gpus:\n",
    "  # Create 2 virtual GPUs with 1GB memory each\n",
    "  try:\n",
    "    tf.config.set_logical_device_configuration(\n",
    "        gpus[0],\n",
    "        [tf.config.LogicalDeviceConfiguration(memory_limit=1024),\n",
    "         tf.config.LogicalDeviceConfiguration(memory_limit=1024)])\n",
    "    logical_gpus = tf.config.list_logical_devices('GPU')\n",
    "    print(len(gpus), \"Physical GPU,\", len(logical_gpus), \"Logical GPUs\")\n",
    "  except RuntimeError as e:\n",
    "    # Virtual devices must be set before GPUs have been initialized\n",
    "    print(e)"
   ]
  },
  {
   "cell_type": "code",
   "execution_count": 4,
   "metadata": {},
   "outputs": [],
   "source": [
    "import tensorflow as tf\n",
    "import pandas as pd\n",
    "import numpy as np\n",
    "import sklearn\n",
    "from keras.models import Sequential, load_model\n",
    "from sklearn.model_selection import train_test_split\n",
    "from sklearn.linear_model import LogisticRegression\n",
    "from sklearn import preprocessing\n",
    "from sklearn.preprocessing import LabelEncoder, StandardScaler\n",
    "from sklearn.metrics import confusion_matrix\n",
    "from keras.utils import np_utils"
   ]
  },
  {
   "cell_type": "code",
   "execution_count": 5,
   "metadata": {},
   "outputs": [],
   "source": [
    "train='data/1_UNSW-NB15.csv'\n",
    "\n",
    "train_data=pd.read_csv(train)"
   ]
  },
  {
   "cell_type": "code",
   "execution_count": 6,
   "metadata": {},
   "outputs": [],
   "source": [
    "train_data = train_data[0:5000]"
   ]
  },
  {
   "cell_type": "code",
   "execution_count": 7,
   "metadata": {},
   "outputs": [
    {
     "data": {
      "text/html": [
       "<div>\n",
       "<style scoped>\n",
       "    .dataframe tbody tr th:only-of-type {\n",
       "        vertical-align: middle;\n",
       "    }\n",
       "\n",
       "    .dataframe tbody tr th {\n",
       "        vertical-align: top;\n",
       "    }\n",
       "\n",
       "    .dataframe thead th {\n",
       "        text-align: right;\n",
       "    }\n",
       "</style>\n",
       "<table border=\"1\" class=\"dataframe\">\n",
       "  <thead>\n",
       "    <tr style=\"text-align: right;\">\n",
       "      <th></th>\n",
       "      <th>id</th>\n",
       "      <th>dur</th>\n",
       "      <th>proto</th>\n",
       "      <th>service</th>\n",
       "      <th>state</th>\n",
       "      <th>spkts</th>\n",
       "      <th>dpkts</th>\n",
       "      <th>sbytes</th>\n",
       "      <th>dbytes</th>\n",
       "      <th>rate</th>\n",
       "      <th>...</th>\n",
       "      <th>ct_dst_sport_ltm</th>\n",
       "      <th>ct_dst_src_ltm</th>\n",
       "      <th>is_ftp_login</th>\n",
       "      <th>ct_ftp_cmd</th>\n",
       "      <th>ct_flw_http_mthd</th>\n",
       "      <th>ct_src_ltm</th>\n",
       "      <th>ct_srv_dst</th>\n",
       "      <th>is_sm_ips_ports</th>\n",
       "      <th>attack_cat</th>\n",
       "      <th>label</th>\n",
       "    </tr>\n",
       "  </thead>\n",
       "  <tbody>\n",
       "    <tr>\n",
       "      <th>0</th>\n",
       "      <td>1</td>\n",
       "      <td>0.000011</td>\n",
       "      <td>udp</td>\n",
       "      <td>-</td>\n",
       "      <td>INT</td>\n",
       "      <td>2</td>\n",
       "      <td>0</td>\n",
       "      <td>496</td>\n",
       "      <td>0</td>\n",
       "      <td>90909.0902</td>\n",
       "      <td>...</td>\n",
       "      <td>1</td>\n",
       "      <td>2</td>\n",
       "      <td>0</td>\n",
       "      <td>0</td>\n",
       "      <td>0</td>\n",
       "      <td>1</td>\n",
       "      <td>2</td>\n",
       "      <td>0</td>\n",
       "      <td>Normal</td>\n",
       "      <td>0</td>\n",
       "    </tr>\n",
       "    <tr>\n",
       "      <th>1</th>\n",
       "      <td>2</td>\n",
       "      <td>0.000008</td>\n",
       "      <td>udp</td>\n",
       "      <td>-</td>\n",
       "      <td>INT</td>\n",
       "      <td>2</td>\n",
       "      <td>0</td>\n",
       "      <td>1762</td>\n",
       "      <td>0</td>\n",
       "      <td>125000.0003</td>\n",
       "      <td>...</td>\n",
       "      <td>1</td>\n",
       "      <td>2</td>\n",
       "      <td>0</td>\n",
       "      <td>0</td>\n",
       "      <td>0</td>\n",
       "      <td>1</td>\n",
       "      <td>2</td>\n",
       "      <td>0</td>\n",
       "      <td>Normal</td>\n",
       "      <td>0</td>\n",
       "    </tr>\n",
       "    <tr>\n",
       "      <th>2</th>\n",
       "      <td>3</td>\n",
       "      <td>0.000005</td>\n",
       "      <td>udp</td>\n",
       "      <td>-</td>\n",
       "      <td>INT</td>\n",
       "      <td>2</td>\n",
       "      <td>0</td>\n",
       "      <td>1068</td>\n",
       "      <td>0</td>\n",
       "      <td>200000.0051</td>\n",
       "      <td>...</td>\n",
       "      <td>1</td>\n",
       "      <td>3</td>\n",
       "      <td>0</td>\n",
       "      <td>0</td>\n",
       "      <td>0</td>\n",
       "      <td>1</td>\n",
       "      <td>3</td>\n",
       "      <td>0</td>\n",
       "      <td>Normal</td>\n",
       "      <td>0</td>\n",
       "    </tr>\n",
       "    <tr>\n",
       "      <th>3</th>\n",
       "      <td>4</td>\n",
       "      <td>0.000006</td>\n",
       "      <td>udp</td>\n",
       "      <td>-</td>\n",
       "      <td>INT</td>\n",
       "      <td>2</td>\n",
       "      <td>0</td>\n",
       "      <td>900</td>\n",
       "      <td>0</td>\n",
       "      <td>166666.6608</td>\n",
       "      <td>...</td>\n",
       "      <td>1</td>\n",
       "      <td>3</td>\n",
       "      <td>0</td>\n",
       "      <td>0</td>\n",
       "      <td>0</td>\n",
       "      <td>2</td>\n",
       "      <td>3</td>\n",
       "      <td>0</td>\n",
       "      <td>Normal</td>\n",
       "      <td>0</td>\n",
       "    </tr>\n",
       "    <tr>\n",
       "      <th>4</th>\n",
       "      <td>5</td>\n",
       "      <td>0.000010</td>\n",
       "      <td>udp</td>\n",
       "      <td>-</td>\n",
       "      <td>INT</td>\n",
       "      <td>2</td>\n",
       "      <td>0</td>\n",
       "      <td>2126</td>\n",
       "      <td>0</td>\n",
       "      <td>100000.0025</td>\n",
       "      <td>...</td>\n",
       "      <td>1</td>\n",
       "      <td>3</td>\n",
       "      <td>0</td>\n",
       "      <td>0</td>\n",
       "      <td>0</td>\n",
       "      <td>2</td>\n",
       "      <td>3</td>\n",
       "      <td>0</td>\n",
       "      <td>Normal</td>\n",
       "      <td>0</td>\n",
       "    </tr>\n",
       "  </tbody>\n",
       "</table>\n",
       "<p>5 rows × 45 columns</p>\n",
       "</div>"
      ],
      "text/plain": [
       "   id       dur proto service state  spkts  dpkts  sbytes  dbytes  \\\n",
       "0   1  0.000011   udp       -   INT      2      0     496       0   \n",
       "1   2  0.000008   udp       -   INT      2      0    1762       0   \n",
       "2   3  0.000005   udp       -   INT      2      0    1068       0   \n",
       "3   4  0.000006   udp       -   INT      2      0     900       0   \n",
       "4   5  0.000010   udp       -   INT      2      0    2126       0   \n",
       "\n",
       "          rate  ...  ct_dst_sport_ltm  ct_dst_src_ltm  is_ftp_login  \\\n",
       "0   90909.0902  ...                 1               2             0   \n",
       "1  125000.0003  ...                 1               2             0   \n",
       "2  200000.0051  ...                 1               3             0   \n",
       "3  166666.6608  ...                 1               3             0   \n",
       "4  100000.0025  ...                 1               3             0   \n",
       "\n",
       "   ct_ftp_cmd  ct_flw_http_mthd  ct_src_ltm  ct_srv_dst  is_sm_ips_ports  \\\n",
       "0           0                 0           1           2                0   \n",
       "1           0                 0           1           2                0   \n",
       "2           0                 0           1           3                0   \n",
       "3           0                 0           2           3                0   \n",
       "4           0                 0           2           3                0   \n",
       "\n",
       "   attack_cat  label  \n",
       "0      Normal      0  \n",
       "1      Normal      0  \n",
       "2      Normal      0  \n",
       "3      Normal      0  \n",
       "4      Normal      0  \n",
       "\n",
       "[5 rows x 45 columns]"
      ]
     },
     "execution_count": 7,
     "metadata": {},
     "output_type": "execute_result"
    }
   ],
   "source": [
    "train_data.head()"
   ]
  },
  {
   "cell_type": "code",
   "execution_count": 8,
   "metadata": {},
   "outputs": [
    {
     "data": {
      "text/html": [
       "<div>\n",
       "<style scoped>\n",
       "    .dataframe tbody tr th:only-of-type {\n",
       "        vertical-align: middle;\n",
       "    }\n",
       "\n",
       "    .dataframe tbody tr th {\n",
       "        vertical-align: top;\n",
       "    }\n",
       "\n",
       "    .dataframe thead th {\n",
       "        text-align: right;\n",
       "    }\n",
       "</style>\n",
       "<table border=\"1\" class=\"dataframe\">\n",
       "  <thead>\n",
       "    <tr style=\"text-align: right;\">\n",
       "      <th></th>\n",
       "      <th>id</th>\n",
       "      <th>dur</th>\n",
       "      <th>proto</th>\n",
       "      <th>service</th>\n",
       "      <th>state</th>\n",
       "      <th>spkts</th>\n",
       "      <th>dpkts</th>\n",
       "      <th>sbytes</th>\n",
       "      <th>dbytes</th>\n",
       "      <th>rate</th>\n",
       "      <th>...</th>\n",
       "      <th>ct_dst_sport_ltm</th>\n",
       "      <th>ct_dst_src_ltm</th>\n",
       "      <th>is_ftp_login</th>\n",
       "      <th>ct_ftp_cmd</th>\n",
       "      <th>ct_flw_http_mthd</th>\n",
       "      <th>ct_src_ltm</th>\n",
       "      <th>ct_srv_dst</th>\n",
       "      <th>is_sm_ips_ports</th>\n",
       "      <th>attack_cat</th>\n",
       "      <th>label</th>\n",
       "    </tr>\n",
       "  </thead>\n",
       "  <tbody>\n",
       "    <tr>\n",
       "      <th>4995</th>\n",
       "      <td>4996</td>\n",
       "      <td>0.430266</td>\n",
       "      <td>tcp</td>\n",
       "      <td>ftp-data</td>\n",
       "      <td>FIN</td>\n",
       "      <td>8</td>\n",
       "      <td>10</td>\n",
       "      <td>364</td>\n",
       "      <td>3754</td>\n",
       "      <td>39.510443</td>\n",
       "      <td>...</td>\n",
       "      <td>1</td>\n",
       "      <td>2</td>\n",
       "      <td>0</td>\n",
       "      <td>0</td>\n",
       "      <td>0</td>\n",
       "      <td>2</td>\n",
       "      <td>1</td>\n",
       "      <td>0</td>\n",
       "      <td>Exploits</td>\n",
       "      <td>1</td>\n",
       "    </tr>\n",
       "    <tr>\n",
       "      <th>4996</th>\n",
       "      <td>4997</td>\n",
       "      <td>0.000005</td>\n",
       "      <td>srp</td>\n",
       "      <td>-</td>\n",
       "      <td>INT</td>\n",
       "      <td>2</td>\n",
       "      <td>0</td>\n",
       "      <td>200</td>\n",
       "      <td>0</td>\n",
       "      <td>200000.005100</td>\n",
       "      <td>...</td>\n",
       "      <td>2</td>\n",
       "      <td>5</td>\n",
       "      <td>0</td>\n",
       "      <td>0</td>\n",
       "      <td>0</td>\n",
       "      <td>11</td>\n",
       "      <td>5</td>\n",
       "      <td>0</td>\n",
       "      <td>Exploits</td>\n",
       "      <td>1</td>\n",
       "    </tr>\n",
       "    <tr>\n",
       "      <th>4997</th>\n",
       "      <td>4998</td>\n",
       "      <td>0.000005</td>\n",
       "      <td>srp</td>\n",
       "      <td>-</td>\n",
       "      <td>INT</td>\n",
       "      <td>2</td>\n",
       "      <td>0</td>\n",
       "      <td>200</td>\n",
       "      <td>0</td>\n",
       "      <td>200000.005100</td>\n",
       "      <td>...</td>\n",
       "      <td>2</td>\n",
       "      <td>5</td>\n",
       "      <td>0</td>\n",
       "      <td>0</td>\n",
       "      <td>0</td>\n",
       "      <td>11</td>\n",
       "      <td>5</td>\n",
       "      <td>0</td>\n",
       "      <td>DoS</td>\n",
       "      <td>1</td>\n",
       "    </tr>\n",
       "    <tr>\n",
       "      <th>4998</th>\n",
       "      <td>4999</td>\n",
       "      <td>0.000005</td>\n",
       "      <td>smp</td>\n",
       "      <td>-</td>\n",
       "      <td>INT</td>\n",
       "      <td>2</td>\n",
       "      <td>0</td>\n",
       "      <td>200</td>\n",
       "      <td>0</td>\n",
       "      <td>200000.005100</td>\n",
       "      <td>...</td>\n",
       "      <td>1</td>\n",
       "      <td>5</td>\n",
       "      <td>0</td>\n",
       "      <td>0</td>\n",
       "      <td>0</td>\n",
       "      <td>6</td>\n",
       "      <td>5</td>\n",
       "      <td>0</td>\n",
       "      <td>Fuzzers</td>\n",
       "      <td>1</td>\n",
       "    </tr>\n",
       "    <tr>\n",
       "      <th>4999</th>\n",
       "      <td>5000</td>\n",
       "      <td>0.626844</td>\n",
       "      <td>tcp</td>\n",
       "      <td>-</td>\n",
       "      <td>FIN</td>\n",
       "      <td>10</td>\n",
       "      <td>8</td>\n",
       "      <td>564</td>\n",
       "      <td>354</td>\n",
       "      <td>27.119986</td>\n",
       "      <td>...</td>\n",
       "      <td>1</td>\n",
       "      <td>1</td>\n",
       "      <td>0</td>\n",
       "      <td>0</td>\n",
       "      <td>0</td>\n",
       "      <td>1</td>\n",
       "      <td>1</td>\n",
       "      <td>0</td>\n",
       "      <td>Reconnaissance</td>\n",
       "      <td>1</td>\n",
       "    </tr>\n",
       "  </tbody>\n",
       "</table>\n",
       "<p>5 rows × 45 columns</p>\n",
       "</div>"
      ],
      "text/plain": [
       "        id       dur proto   service state  spkts  dpkts  sbytes  dbytes  \\\n",
       "4995  4996  0.430266   tcp  ftp-data   FIN      8     10     364    3754   \n",
       "4996  4997  0.000005   srp         -   INT      2      0     200       0   \n",
       "4997  4998  0.000005   srp         -   INT      2      0     200       0   \n",
       "4998  4999  0.000005   smp         -   INT      2      0     200       0   \n",
       "4999  5000  0.626844   tcp         -   FIN     10      8     564     354   \n",
       "\n",
       "               rate  ...  ct_dst_sport_ltm  ct_dst_src_ltm  is_ftp_login  \\\n",
       "4995      39.510443  ...                 1               2             0   \n",
       "4996  200000.005100  ...                 2               5             0   \n",
       "4997  200000.005100  ...                 2               5             0   \n",
       "4998  200000.005100  ...                 1               5             0   \n",
       "4999      27.119986  ...                 1               1             0   \n",
       "\n",
       "      ct_ftp_cmd  ct_flw_http_mthd  ct_src_ltm  ct_srv_dst  is_sm_ips_ports  \\\n",
       "4995           0                 0           2           1                0   \n",
       "4996           0                 0          11           5                0   \n",
       "4997           0                 0          11           5                0   \n",
       "4998           0                 0           6           5                0   \n",
       "4999           0                 0           1           1                0   \n",
       "\n",
       "          attack_cat  label  \n",
       "4995        Exploits      1  \n",
       "4996        Exploits      1  \n",
       "4997             DoS      1  \n",
       "4998         Fuzzers      1  \n",
       "4999  Reconnaissance      1  \n",
       "\n",
       "[5 rows x 45 columns]"
      ]
     },
     "execution_count": 8,
     "metadata": {},
     "output_type": "execute_result"
    }
   ],
   "source": [
    "train_data.tail()"
   ]
  },
  {
   "cell_type": "code",
   "execution_count": 21,
   "metadata": {},
   "outputs": [
    {
     "data": {
      "text/plain": [
       "1    4757\n",
       "0     243\n",
       "Name: label, dtype: int64"
      ]
     },
     "execution_count": 21,
     "metadata": {},
     "output_type": "execute_result"
    }
   ],
   "source": [
    "# number of attack labels \n",
    "train_data['label'].value_counts()"
   ]
  },
  {
   "cell_type": "code",
   "execution_count": 24,
   "metadata": {},
   "outputs": [
    {
     "name": "stdout",
     "output_type": "stream",
     "text": [
      "<class 'pandas.core.frame.DataFrame'>\n",
      "RangeIndex: 5000 entries, 0 to 4999\n",
      "Data columns (total 45 columns):\n",
      "id                   5000 non-null int64\n",
      "dur                  5000 non-null float64\n",
      "proto                5000 non-null object\n",
      "service              5000 non-null object\n",
      "state                5000 non-null object\n",
      "spkts                5000 non-null int64\n",
      "dpkts                5000 non-null int64\n",
      "sbytes               5000 non-null int64\n",
      "dbytes               5000 non-null int64\n",
      "rate                 5000 non-null float64\n",
      "sttl                 5000 non-null int64\n",
      "dttl                 5000 non-null int64\n",
      "sload                5000 non-null float64\n",
      "dload                5000 non-null float64\n",
      "sloss                5000 non-null int64\n",
      "dloss                5000 non-null int64\n",
      "sinpkt               5000 non-null float64\n",
      "dinpkt               5000 non-null float64\n",
      "sjit                 5000 non-null float64\n",
      "djit                 5000 non-null float64\n",
      "swin                 5000 non-null int64\n",
      "stcpb                5000 non-null int64\n",
      "dtcpb                5000 non-null int64\n",
      "dwin                 5000 non-null int64\n",
      "tcprtt               5000 non-null float64\n",
      "synack               5000 non-null float64\n",
      "ackdat               5000 non-null float64\n",
      "smean                5000 non-null int64\n",
      "dmean                5000 non-null int64\n",
      "trans_depth          5000 non-null int64\n",
      "response_body_len    5000 non-null int64\n",
      "ct_srv_src           5000 non-null int64\n",
      "ct_state_ttl         5000 non-null int64\n",
      "ct_dst_ltm           5000 non-null int64\n",
      "ct_src_dport_ltm     5000 non-null int64\n",
      "ct_dst_sport_ltm     5000 non-null int64\n",
      "ct_dst_src_ltm       5000 non-null int64\n",
      "is_ftp_login         5000 non-null int64\n",
      "ct_ftp_cmd           5000 non-null int64\n",
      "ct_flw_http_mthd     5000 non-null int64\n",
      "ct_src_ltm           5000 non-null int64\n",
      "ct_srv_dst           5000 non-null int64\n",
      "is_sm_ips_ports      5000 non-null int64\n",
      "attack_cat           5000 non-null object\n",
      "label                5000 non-null int64\n",
      "dtypes: float64(11), int64(30), object(4)\n",
      "memory usage: 1.7+ MB\n"
     ]
    }
   ],
   "source": [
    "train_data.info()"
   ]
  },
  {
   "cell_type": "code",
   "execution_count": 25,
   "metadata": {},
   "outputs": [],
   "source": [
    "del train_data['service']"
   ]
  },
  {
   "cell_type": "code",
   "execution_count": 26,
   "metadata": {},
   "outputs": [],
   "source": [
    "del train_data['id']\n",
    "del train_data['state']"
   ]
  },
  {
   "cell_type": "code",
   "execution_count": 27,
   "metadata": {},
   "outputs": [
    {
     "data": {
      "text/plain": [
       "array([5, 6, 1, 2, 3, 0, 4, 8, 7], dtype=int64)"
      ]
     },
     "execution_count": 27,
     "metadata": {},
     "output_type": "execute_result"
    }
   ],
   "source": [
    "# Import label encoder\n",
    "from sklearn import preprocessing\n",
    "\n",
    "# label_encoder object knows\n",
    "# how to understand word labels.\n",
    "label_encoder = preprocessing.LabelEncoder()\n",
    "\n",
    "# Encode labels in column 'species'.\n",
    "train_data['proto']= label_encoder.fit_transform(train_data['proto'])\n",
    "train_data['attack_cat']= label_encoder.fit_transform(train_data['attack_cat'])\n",
    "\n",
    "train_data['proto'].unique()\n",
    "train_data['attack_cat'].unique()"
   ]
  },
  {
   "cell_type": "code",
   "execution_count": 29,
   "metadata": {},
   "outputs": [],
   "source": [
    "data = train_data.copy()"
   ]
  },
  {
   "cell_type": "code",
   "execution_count": 30,
   "metadata": {},
   "outputs": [],
   "source": [
    "del data['attack_cat']"
   ]
  },
  {
   "cell_type": "code",
   "execution_count": 31,
   "metadata": {},
   "outputs": [
    {
     "name": "stdout",
     "output_type": "stream",
     "text": [
      "<class 'pandas.core.frame.DataFrame'>\n",
      "RangeIndex: 5000 entries, 0 to 4999\n",
      "Data columns (total 41 columns):\n",
      "dur                  5000 non-null float64\n",
      "proto                5000 non-null int32\n",
      "spkts                5000 non-null int64\n",
      "dpkts                5000 non-null int64\n",
      "sbytes               5000 non-null int64\n",
      "dbytes               5000 non-null int64\n",
      "rate                 5000 non-null float64\n",
      "sttl                 5000 non-null int64\n",
      "dttl                 5000 non-null int64\n",
      "sload                5000 non-null float64\n",
      "dload                5000 non-null float64\n",
      "sloss                5000 non-null int64\n",
      "dloss                5000 non-null int64\n",
      "sinpkt               5000 non-null float64\n",
      "dinpkt               5000 non-null float64\n",
      "sjit                 5000 non-null float64\n",
      "djit                 5000 non-null float64\n",
      "swin                 5000 non-null int64\n",
      "stcpb                5000 non-null int64\n",
      "dtcpb                5000 non-null int64\n",
      "dwin                 5000 non-null int64\n",
      "tcprtt               5000 non-null float64\n",
      "synack               5000 non-null float64\n",
      "ackdat               5000 non-null float64\n",
      "smean                5000 non-null int64\n",
      "dmean                5000 non-null int64\n",
      "trans_depth          5000 non-null int64\n",
      "response_body_len    5000 non-null int64\n",
      "ct_srv_src           5000 non-null int64\n",
      "ct_state_ttl         5000 non-null int64\n",
      "ct_dst_ltm           5000 non-null int64\n",
      "ct_src_dport_ltm     5000 non-null int64\n",
      "ct_dst_sport_ltm     5000 non-null int64\n",
      "ct_dst_src_ltm       5000 non-null int64\n",
      "is_ftp_login         5000 non-null int64\n",
      "ct_ftp_cmd           5000 non-null int64\n",
      "ct_flw_http_mthd     5000 non-null int64\n",
      "ct_src_ltm           5000 non-null int64\n",
      "ct_srv_dst           5000 non-null int64\n",
      "is_sm_ips_ports      5000 non-null int64\n",
      "label                5000 non-null int64\n",
      "dtypes: float64(11), int32(1), int64(29)\n",
      "memory usage: 1.5 MB\n"
     ]
    }
   ],
   "source": [
    "data.info()"
   ]
  },
  {
   "cell_type": "code",
   "execution_count": 32,
   "metadata": {},
   "outputs": [],
   "source": [
    "X = data.drop([\"label\"],axis =1)\n",
    "y = data[\"label\"]"
   ]
  },
  {
   "cell_type": "code",
   "execution_count": 33,
   "metadata": {},
   "outputs": [
    {
     "data": {
      "text/plain": [
       "(5000, 12)"
      ]
     },
     "execution_count": 33,
     "metadata": {},
     "output_type": "execute_result"
    }
   ],
   "source": [
    "from sklearn.feature_selection import SelectKBest, SelectPercentile, mutual_info_classif\n",
    "\n",
    "selector = SelectPercentile(mutual_info_classif, percentile=30)\n",
    "X_reduced = selector.fit_transform(X, y)\n",
    "X_reduced.shape"
   ]
  },
  {
   "cell_type": "code",
   "execution_count": 34,
   "metadata": {},
   "outputs": [
    {
     "data": {
      "text/plain": [
       "['dur',\n",
       " 'sbytes',\n",
       " 'rate',\n",
       " 'sload',\n",
       " 'sloss',\n",
       " 'sinpkt',\n",
       " 'smean',\n",
       " 'ct_srv_src',\n",
       " 'ct_state_ttl',\n",
       " 'ct_dst_ltm',\n",
       " 'ct_dst_src_ltm',\n",
       " 'ct_srv_dst']"
      ]
     },
     "execution_count": 34,
     "metadata": {},
     "output_type": "execute_result"
    }
   ],
   "source": [
    "cols = selector.get_support(indices=True)\n",
    "selected_columns = X.iloc[:,cols].columns.tolist()\n",
    "selected_columns"
   ]
  },
  {
   "cell_type": "code",
   "execution_count": 35,
   "metadata": {},
   "outputs": [],
   "source": [
    "df = data[['dur',\n",
    " 'sbytes',\n",
    " 'rate',\n",
    " 'sload',\n",
    " 'sloss',\n",
    " 'sinpkt',\n",
    " 'smean',\n",
    " 'ct_srv_src',\n",
    " 'ct_state_ttl',\n",
    " 'ct_dst_ltm',\n",
    " 'ct_dst_src_ltm',\n",
    " 'ct_srv_dst',\n",
    "             'label']]\n",
    "df.to_csv('unswnb_process.csv')"
   ]
  },
  {
   "cell_type": "code",
   "execution_count": 36,
   "metadata": {},
   "outputs": [
    {
     "data": {
      "text/plain": [
       "1    4757\n",
       "0     243\n",
       "Name: label, dtype: int64"
      ]
     },
     "execution_count": 36,
     "metadata": {},
     "output_type": "execute_result"
    }
   ],
   "source": [
    "df['label'].value_counts()"
   ]
  },
  {
   "cell_type": "code",
   "execution_count": 109,
   "metadata": {},
   "outputs": [
    {
     "name": "stdout",
     "output_type": "stream",
     "text": [
      "(4000, 12) (4000,)\n",
      "(1000, 12) (1000,)\n"
     ]
    }
   ],
   "source": [
    "# splitting the dataset 80% for training and 20% testing\n",
    "X_train, X_test, y_train, y_test = train_test_split(X_reduced,y, test_size=0.20, random_state=42)\n",
    "print (X_train.shape, y_train.shape)\n",
    "print( X_test.shape, y_test.shape)"
   ]
  },
  {
   "cell_type": "code",
   "execution_count": 38,
   "metadata": {},
   "outputs": [],
   "source": [
    "from sklearn.metrics import accuracy_score, precision_score, recall_score, f1_score"
   ]
  },
  {
   "cell_type": "code",
   "execution_count": 39,
   "metadata": {},
   "outputs": [],
   "source": [
    "ML_Model = []\n",
    "accuracy = []\n",
    "precision = []\n",
    "recall = []\n",
    "f1score = []\n",
    "\n",
    "#function to call for storing the results\n",
    "def storeResults(model, a,b,c,d):\n",
    "    ML_Model.append(model)\n",
    "    accuracy.append(round(a, 3))\n",
    "    precision.append(round(b, 3))\n",
    "    recall.append(round(c, 3))\n",
    "    f1score.append(round(d, 3))"
   ]
  },
  {
   "cell_type": "markdown",
   "metadata": {},
   "source": [
    "# SVM"
   ]
  },
  {
   "cell_type": "code",
   "execution_count": 40,
   "metadata": {},
   "outputs": [],
   "source": [
    "from sklearn.svm import SVC\n",
    "\n",
    "clf = SVC()\n",
    "# fit the model \n",
    "clf.fit(X_train, y_train)\n",
    "\n",
    "#predicting the target value from the model for the samples\n",
    "\n",
    "y_hat = clf.predict(X_test)\n",
    "\n",
    "svm_acc = accuracy_score(y_hat, y_test)\n",
    "svm_prec = precision_score(y_hat, y_test,average='weighted')\n",
    "svm_rec = recall_score(y_hat, y_test,average='weighted')\n",
    "svm_f1 = f1_score(y_hat, y_test,average='weighted')"
   ]
  },
  {
   "cell_type": "code",
   "execution_count": 94,
   "metadata": {},
   "outputs": [],
   "source": [
    "storeResults('SVM',svm_acc,svm_prec,svm_rec,svm_f1)"
   ]
  },
  {
   "cell_type": "markdown",
   "metadata": {},
   "source": [
    "# Decision Tree"
   ]
  },
  {
   "cell_type": "code",
   "execution_count": 41,
   "metadata": {},
   "outputs": [],
   "source": [
    "from sklearn.tree import DecisionTreeClassifier\n",
    "\n",
    "clf = DecisionTreeClassifier(random_state=10)\n",
    "# fit the model \n",
    "clf.fit(X_train, y_train)\n",
    "\n",
    "#predicting the target value from the model for the samples\n",
    "\n",
    "y_hat = clf.predict(X_test)\n",
    "\n",
    "dt_acc = accuracy_score(y_hat, y_test)\n",
    "dt_prec = precision_score(y_hat, y_test,average='weighted')\n",
    "dt_rec = recall_score(y_hat, y_test,average='weighted')\n",
    "dt_f1 = f1_score(y_hat, y_test,average='weighted')"
   ]
  },
  {
   "cell_type": "code",
   "execution_count": 95,
   "metadata": {},
   "outputs": [],
   "source": [
    "storeResults('DT',dt_acc,dt_prec,dt_rec,dt_f1)"
   ]
  },
  {
   "cell_type": "markdown",
   "metadata": {},
   "source": [
    "# Voting Classifier"
   ]
  },
  {
   "cell_type": "code",
   "execution_count": 42,
   "metadata": {},
   "outputs": [],
   "source": [
    "from sklearn.ensemble import RandomForestClassifier, VotingClassifier, AdaBoostClassifier\n",
    "from sklearn.tree import DecisionTreeClassifier\n",
    "\n",
    "rfc = RandomForestClassifier()\n",
    "parameters = {\n",
    "    \"n_estimators\":[25],\n",
    "    \"max_depth\":[20]\n",
    "    \n",
    "}\n",
    "\n",
    "from sklearn.model_selection import GridSearchCV\n",
    "forest = GridSearchCV(rfc,parameters,cv=10)\n",
    "\n",
    "clf2 = DecisionTreeClassifier(random_state=10)\n",
    "\n",
    "eclf1 = VotingClassifier(estimators=[('rf-parameter', forest), ('dt', clf2)], voting='soft')\n",
    "eclf1.fit(X_train, y_train)\n",
    "y_pred = eclf1.predict(X_test)\n",
    "\n",
    "vot_acc = accuracy_score(y_pred, y_test)\n",
    "vot_prec = precision_score(y_pred, y_test,average='weighted')\n",
    "vot_rec = recall_score(y_pred, y_test,average='weighted')\n",
    "vot_f1 = f1_score(y_pred, y_test,average='weighted')"
   ]
  },
  {
   "cell_type": "code",
   "execution_count": 113,
   "metadata": {},
   "outputs": [],
   "source": [
    "storeResults('Voting Classifier',vot_acc,vot_prec,vot_rec,vot_f1)"
   ]
  },
  {
   "cell_type": "markdown",
   "metadata": {},
   "source": [
    "# Stacking Classifier"
   ]
  },
  {
   "cell_type": "code",
   "execution_count": 43,
   "metadata": {},
   "outputs": [],
   "source": [
    "from lightgbm import LGBMClassifier\n",
    "from sklearn.ensemble import StackingClassifier\n",
    "\n",
    "estimators = [('rf', forest),('dt', DecisionTreeClassifier(random_state=10))]\n",
    "\n",
    "clf1 = StackingClassifier(estimators=estimators, final_estimator=LGBMClassifier(n_estimators=10))\n",
    "\n",
    "\n",
    "clf1.fit(X_train,y_train)\n",
    "\n",
    "y_pred = clf1.predict(X_test)\n",
    "\n",
    "stac_acc = accuracy_score(y_pred, y_test)\n",
    "stac_prec = precision_score(y_pred, y_test,average='weighted')\n",
    "stac_rec = recall_score(y_pred, y_test,average='weighted')\n",
    "stac_f1 = f1_score(y_pred, y_test,average='weighted')"
   ]
  },
  {
   "cell_type": "code",
   "execution_count": 114,
   "metadata": {},
   "outputs": [],
   "source": [
    "storeResults('Stacking Classifier',stac_acc,stac_prec,stac_rec,stac_f1)"
   ]
  },
  {
   "cell_type": "markdown",
   "metadata": {},
   "source": [
    "# LSTM-G"
   ]
  },
  {
   "cell_type": "code",
   "execution_count": 44,
   "metadata": {},
   "outputs": [],
   "source": [
    "from sklearn.preprocessing import MinMaxScaler\n",
    "\n",
    "sc = MinMaxScaler()\n",
    "\n",
    "X_train = sc.fit_transform(X_train)\n",
    "X_test = sc.transform(X_test)"
   ]
  },
  {
   "cell_type": "code",
   "execution_count": 45,
   "metadata": {},
   "outputs": [],
   "source": [
    "import torch\n",
    "from torch import nn, optim\n",
    "from torch.nn import functional as F"
   ]
  },
  {
   "cell_type": "code",
   "execution_count": 46,
   "metadata": {},
   "outputs": [],
   "source": [
    "X_train = torch.tensor(X_train).float()\n",
    "X_test = torch.tensor(X_test).float()\n",
    "y_train = torch.tensor(y_train.values).long()\n",
    "y_test = torch.tensor(y_test.values).long()"
   ]
  },
  {
   "cell_type": "code",
   "execution_count": 47,
   "metadata": {},
   "outputs": [],
   "source": [
    "class lstm(nn.Module):\n",
    "    def __init__(self):\n",
    "        super(lstm, self).__init__()\n",
    "        self.fc1 = nn.Linear(12, 64)\n",
    "        self.fc2 = nn.Linear(64, 128)\n",
    "        self.fc3 = nn.Linear(128, 256)\n",
    "        self.fc4 = nn.Linear(256, 5)\n",
    "        self.act = nn.LeakyReLU()\n",
    "        self.dropout = nn.Dropout(0.1)\n",
    "    def forward(self, x):\n",
    "        x = self.act(self.fc1(x))\n",
    "        x = self.act(self.fc2(x))\n",
    "        x = self.act(self.fc3(x))\n",
    "        x = self.dropout(x)\n",
    "        return self.fc4(x)"
   ]
  },
  {
   "cell_type": "code",
   "execution_count": 48,
   "metadata": {},
   "outputs": [],
   "source": [
    "net = lstm()"
   ]
  },
  {
   "cell_type": "code",
   "execution_count": 49,
   "metadata": {},
   "outputs": [],
   "source": [
    "optimizer = optim.AdamW(net.parameters())\n",
    "criterion = nn.CrossEntropyLoss()"
   ]
  },
  {
   "cell_type": "code",
   "execution_count": 50,
   "metadata": {},
   "outputs": [],
   "source": [
    "losses = []"
   ]
  },
  {
   "cell_type": "code",
   "execution_count": 51,
   "metadata": {},
   "outputs": [
    {
     "name": "stdout",
     "output_type": "stream",
     "text": [
      "Epoch 1, Loss: 1.6433401107788086, Acc:0.00%, Test Acc: 0.00%\n",
      "Epoch 2, Loss: 1.6084755659103394, Acc:0.03%, Test Acc: 49.60%\n",
      "Epoch 3, Loss: 1.5733959674835205, Acc:50.35%, Test Acc: 93.50%\n",
      "Epoch 4, Loss: 1.5381931066513062, Acc:95.40%, Test Acc: 93.90%\n",
      "Epoch 5, Loss: 1.5024710893630981, Acc:95.45%, Test Acc: 93.90%\n",
      "Epoch 6, Loss: 1.465619683265686, Acc:95.45%, Test Acc: 93.90%\n",
      "Epoch 7, Loss: 1.426993727684021, Acc:95.45%, Test Acc: 93.90%\n",
      "Epoch 8, Loss: 1.386312484741211, Acc:95.45%, Test Acc: 93.90%\n",
      "Epoch 9, Loss: 1.3428707122802734, Acc:95.45%, Test Acc: 93.90%\n",
      "Epoch 10, Loss: 1.2962194681167603, Acc:95.45%, Test Acc: 93.90%\n",
      "Epoch 11, Loss: 1.2456471920013428, Acc:95.45%, Test Acc: 93.90%\n",
      "Epoch 12, Loss: 1.1911083459854126, Acc:95.45%, Test Acc: 93.90%\n",
      "Epoch 13, Loss: 1.1329659223556519, Acc:95.45%, Test Acc: 93.90%\n",
      "Epoch 14, Loss: 1.0699912309646606, Acc:95.45%, Test Acc: 93.90%\n",
      "Epoch 15, Loss: 1.0017693042755127, Acc:95.45%, Test Acc: 93.90%\n",
      "Epoch 16, Loss: 0.9297675490379333, Acc:95.45%, Test Acc: 93.90%\n",
      "Epoch 17, Loss: 0.8530546426773071, Acc:95.45%, Test Acc: 93.90%\n",
      "Epoch 18, Loss: 0.7753421068191528, Acc:95.45%, Test Acc: 93.90%\n",
      "Epoch 19, Loss: 0.6951842904090881, Acc:95.45%, Test Acc: 93.90%\n",
      "Epoch 20, Loss: 0.616582453250885, Acc:95.45%, Test Acc: 93.90%\n",
      "Epoch 21, Loss: 0.5422561168670654, Acc:95.45%, Test Acc: 93.90%\n",
      "Epoch 22, Loss: 0.4731549918651581, Acc:95.45%, Test Acc: 93.90%\n",
      "Epoch 23, Loss: 0.4130409061908722, Acc:95.45%, Test Acc: 93.90%\n",
      "Epoch 24, Loss: 0.3649415075778961, Acc:95.45%, Test Acc: 93.90%\n",
      "Epoch 25, Loss: 0.3268347382545471, Acc:95.45%, Test Acc: 93.90%\n",
      "Epoch 26, Loss: 0.29985469579696655, Acc:95.45%, Test Acc: 93.90%\n",
      "Epoch 27, Loss: 0.28324681520462036, Acc:95.45%, Test Acc: 93.90%\n",
      "Epoch 28, Loss: 0.27383071184158325, Acc:95.45%, Test Acc: 93.90%\n",
      "Epoch 29, Loss: 0.2697823643684387, Acc:95.45%, Test Acc: 93.90%\n",
      "Epoch 30, Loss: 0.26876434683799744, Acc:95.45%, Test Acc: 93.90%\n",
      "Epoch 31, Loss: 0.2713365852832794, Acc:95.45%, Test Acc: 93.90%\n",
      "Epoch 32, Loss: 0.27154019474983215, Acc:95.45%, Test Acc: 93.90%\n",
      "Epoch 33, Loss: 0.2720904052257538, Acc:95.45%, Test Acc: 93.90%\n",
      "Epoch 34, Loss: 0.27346035838127136, Acc:95.45%, Test Acc: 93.90%\n",
      "Epoch 35, Loss: 0.2710108160972595, Acc:95.45%, Test Acc: 93.90%\n",
      "Epoch 36, Loss: 0.26776933670043945, Acc:95.45%, Test Acc: 93.90%\n",
      "Epoch 37, Loss: 0.26364463567733765, Acc:95.45%, Test Acc: 93.90%\n",
      "Epoch 38, Loss: 0.25815579295158386, Acc:95.45%, Test Acc: 93.90%\n",
      "Epoch 39, Loss: 0.25210443139076233, Acc:95.45%, Test Acc: 93.90%\n",
      "Epoch 40, Loss: 0.24488599598407745, Acc:95.45%, Test Acc: 93.90%\n",
      "Epoch 41, Loss: 0.2372407466173172, Acc:95.45%, Test Acc: 93.90%\n",
      "Epoch 42, Loss: 0.22955957055091858, Acc:95.45%, Test Acc: 93.90%\n",
      "Epoch 43, Loss: 0.22174955904483795, Acc:95.45%, Test Acc: 93.90%\n",
      "Epoch 44, Loss: 0.21462486684322357, Acc:95.45%, Test Acc: 93.90%\n",
      "Epoch 45, Loss: 0.20686741173267365, Acc:95.45%, Test Acc: 93.90%\n",
      "Epoch 46, Loss: 0.20008188486099243, Acc:95.45%, Test Acc: 93.90%\n",
      "Epoch 47, Loss: 0.19673117995262146, Acc:95.45%, Test Acc: 93.90%\n",
      "Epoch 48, Loss: 0.19160212576389313, Acc:95.45%, Test Acc: 93.90%\n",
      "Epoch 49, Loss: 0.187555730342865, Acc:95.45%, Test Acc: 93.90%\n"
     ]
    },
    {
     "data": {
      "text/plain": [
       "<All keys matched successfully>"
      ]
     },
     "execution_count": 51,
     "metadata": {},
     "output_type": "execute_result"
    }
   ],
   "source": [
    "max_test = 0\n",
    "best_params = net.state_dict()\n",
    "for epoch in range(1, 50):\n",
    "    optimizer.zero_grad()\n",
    "    outputs = net(X_train)\n",
    "    loss = criterion(outputs, y_train)\n",
    "    loss.backward()\n",
    "    optimizer.step()\n",
    "    losses.append(loss.item())\n",
    "    _, preds_y = torch.max(outputs, 1)\n",
    "    train_acc = accuracy_score(y_train, preds_y)\n",
    "    \n",
    "    pred_test = net(X_test)\n",
    "    _, preds_test_y = torch.max(pred_test, 1)\n",
    "    test_acc = accuracy_score(y_test, preds_test_y)\n",
    "    print(\"Epoch {}, Loss: {}, Acc:{:.2f}%, Test Acc: {:.2f}%\".format(epoch, loss.item(), \n",
    "                                                                      train_acc*100, test_acc * 100))\n",
    "    if test_acc > max_test:\n",
    "        max_test = test_acc\n",
    "        best_params = net.state_dict()\n",
    "net.load_state_dict(best_params)"
   ]
  },
  {
   "cell_type": "code",
   "execution_count": 54,
   "metadata": {},
   "outputs": [
    {
     "data": {
      "text/plain": [
       "[<matplotlib.lines.Line2D at 0x25be74e3a48>]"
      ]
     },
     "execution_count": 54,
     "metadata": {},
     "output_type": "execute_result"
    },
    {
     "data": {
      "image/png": "[encoded data removed]",
      "text/plain": [
       "<Figure size 432x288 with 1 Axes>"
      ]
     },
     "metadata": {
      "needs_background": "light"
     },
     "output_type": "display_data"
    }
   ],
   "source": [
    "plt.plot(losses)"
   ]
  },
  {
   "cell_type": "code",
   "execution_count": 55,
   "metadata": {},
   "outputs": [],
   "source": [
    "pred_test = net(X_test)\n",
    "_, preds_y = torch.max(pred_test, 1)"
   ]
  },
  {
   "cell_type": "code",
   "execution_count": 56,
   "metadata": {},
   "outputs": [],
   "source": [
    "lstmg_acc = accuracy_score(y_test, preds_y)\n",
    "lstmg_prec = precision_score(y_test, preds_y,average='weighted')\n",
    "lstmg_rec = recall_score(y_test, preds_y,average='weighted')\n",
    "lstmg_f1 = f1_score(y_test, preds_y,average='weighted')"
   ]
  },
  {
   "cell_type": "code",
   "execution_count": 96,
   "metadata": {},
   "outputs": [],
   "source": [
    "storeResults('LSTM-G',lstmg_acc,lstmg_prec,lstmg_rec,lstmg_f1)"
   ]
  },
  {
   "cell_type": "markdown",
   "metadata": {},
   "source": [
    "# CNN-G"
   ]
  },
  {
   "cell_type": "code",
   "execution_count": 57,
   "metadata": {},
   "outputs": [],
   "source": [
    "class cnn(nn.Module):\n",
    "    def __init__(self):\n",
    "        super(cnn, self).__init__()\n",
    "        self.fc1 = nn.Linear(12, 64)\n",
    "        self.fc2 = nn.Linear(64, 128)\n",
    "        self.fc3 = nn.Linear(128, 256)\n",
    "        self.fc4 = nn.Linear(256, 5)\n",
    "        self.act = nn.LeakyReLU()\n",
    "        self.dropout = nn.Dropout(0.1)\n",
    "    def forward(self, x):\n",
    "        x = self.act(self.fc1(x))\n",
    "        x = self.act(self.fc2(x))\n",
    "        x = self.act(self.fc3(x))\n",
    "        x = self.dropout(x)\n",
    "        return self.fc4(x)"
   ]
  },
  {
   "cell_type": "code",
   "execution_count": 58,
   "metadata": {},
   "outputs": [],
   "source": [
    "net = cnn()"
   ]
  },
  {
   "cell_type": "code",
   "execution_count": 59,
   "metadata": {},
   "outputs": [
    {
     "name": "stdout",
     "output_type": "stream",
     "text": [
      "Epoch 1, Loss: 1.6426633596420288, Acc:0.62%, Test Acc: 10.80%\n",
      "Epoch 2, Loss: 1.6042218208312988, Acc:10.70%, Test Acc: 93.80%\n",
      "Epoch 3, Loss: 1.5657554864883423, Acc:94.92%, Test Acc: 93.90%\n",
      "Epoch 4, Loss: 1.527076244354248, Acc:95.45%, Test Acc: 93.90%\n",
      "Epoch 5, Loss: 1.4878555536270142, Acc:95.45%, Test Acc: 93.90%\n",
      "Epoch 6, Loss: 1.44783616065979, Acc:95.45%, Test Acc: 93.90%\n",
      "Epoch 7, Loss: 1.4056551456451416, Acc:95.45%, Test Acc: 93.90%\n",
      "Epoch 8, Loss: 1.3600025177001953, Acc:95.45%, Test Acc: 93.90%\n",
      "Epoch 9, Loss: 1.3100696802139282, Acc:95.45%, Test Acc: 93.90%\n",
      "Epoch 10, Loss: 1.2557576894760132, Acc:95.45%, Test Acc: 93.90%\n",
      "Epoch 11, Loss: 1.195657730102539, Acc:95.45%, Test Acc: 93.90%\n",
      "Epoch 12, Loss: 1.130983591079712, Acc:95.45%, Test Acc: 93.90%\n",
      "Epoch 13, Loss: 1.0598430633544922, Acc:95.45%, Test Acc: 93.90%\n",
      "Epoch 14, Loss: 0.9844179153442383, Acc:95.45%, Test Acc: 93.90%\n",
      "Epoch 15, Loss: 0.9035926461219788, Acc:95.45%, Test Acc: 93.90%\n",
      "Epoch 16, Loss: 0.8204004764556885, Acc:95.45%, Test Acc: 93.90%\n",
      "Epoch 17, Loss: 0.7345552444458008, Acc:95.45%, Test Acc: 93.90%\n",
      "Epoch 18, Loss: 0.6492826342582703, Acc:95.45%, Test Acc: 93.90%\n",
      "Epoch 19, Loss: 0.5678247213363647, Acc:95.45%, Test Acc: 93.90%\n",
      "Epoch 20, Loss: 0.49185529351234436, Acc:95.45%, Test Acc: 93.90%\n",
      "Epoch 21, Loss: 0.42456603050231934, Acc:95.45%, Test Acc: 93.90%\n",
      "Epoch 22, Loss: 0.3664683997631073, Acc:95.45%, Test Acc: 93.90%\n",
      "Epoch 23, Loss: 0.3232601583003998, Acc:95.45%, Test Acc: 93.90%\n",
      "Epoch 24, Loss: 0.2912101149559021, Acc:95.45%, Test Acc: 93.90%\n",
      "Epoch 25, Loss: 0.27024319767951965, Acc:95.45%, Test Acc: 93.90%\n",
      "Epoch 26, Loss: 0.2598906457424164, Acc:95.45%, Test Acc: 93.90%\n",
      "Epoch 27, Loss: 0.2538359463214874, Acc:95.45%, Test Acc: 93.90%\n",
      "Epoch 28, Loss: 0.2527956962585449, Acc:95.45%, Test Acc: 93.90%\n",
      "Epoch 29, Loss: 0.2548086643218994, Acc:95.45%, Test Acc: 93.90%\n",
      "Epoch 30, Loss: 0.25632956624031067, Acc:95.45%, Test Acc: 93.90%\n",
      "Epoch 31, Loss: 0.2580721080303192, Acc:95.45%, Test Acc: 93.90%\n",
      "Epoch 32, Loss: 0.2597710192203522, Acc:95.45%, Test Acc: 93.90%\n",
      "Epoch 33, Loss: 0.2607971131801605, Acc:95.45%, Test Acc: 93.90%\n",
      "Epoch 34, Loss: 0.25891271233558655, Acc:95.45%, Test Acc: 93.90%\n",
      "Epoch 35, Loss: 0.25685304403305054, Acc:95.45%, Test Acc: 93.90%\n",
      "Epoch 36, Loss: 0.25284135341644287, Acc:95.45%, Test Acc: 93.90%\n",
      "Epoch 37, Loss: 0.24871288239955902, Acc:95.45%, Test Acc: 93.90%\n",
      "Epoch 38, Loss: 0.24126355350017548, Acc:95.45%, Test Acc: 93.90%\n",
      "Epoch 39, Loss: 0.23528344929218292, Acc:95.45%, Test Acc: 93.90%\n",
      "Epoch 40, Loss: 0.22808395326137543, Acc:95.45%, Test Acc: 93.90%\n",
      "Epoch 41, Loss: 0.2206529825925827, Acc:95.45%, Test Acc: 93.90%\n",
      "Epoch 42, Loss: 0.21439550817012787, Acc:95.45%, Test Acc: 93.90%\n",
      "Epoch 43, Loss: 0.20839667320251465, Acc:95.45%, Test Acc: 93.90%\n",
      "Epoch 44, Loss: 0.20014333724975586, Acc:95.45%, Test Acc: 93.90%\n",
      "Epoch 45, Loss: 0.19322657585144043, Acc:95.45%, Test Acc: 93.90%\n",
      "Epoch 46, Loss: 0.18845230340957642, Acc:95.45%, Test Acc: 93.90%\n",
      "Epoch 47, Loss: 0.18401840329170227, Acc:95.45%, Test Acc: 93.90%\n",
      "Epoch 48, Loss: 0.17945656180381775, Acc:95.45%, Test Acc: 93.90%\n",
      "Epoch 49, Loss: 0.17742833495140076, Acc:95.45%, Test Acc: 93.90%\n"
     ]
    },
    {
     "data": {
      "text/plain": [
       "<All keys matched successfully>"
      ]
     },
     "execution_count": 59,
     "metadata": {},
     "output_type": "execute_result"
    }
   ],
   "source": [
    "optimizer = optim.AdamW(net.parameters())\n",
    "criterion = nn.CrossEntropyLoss()\n",
    "\n",
    "losses = []\n",
    "\n",
    "max_test = 0\n",
    "best_params = net.state_dict()\n",
    "for epoch in range(1, 50):\n",
    "    optimizer.zero_grad()\n",
    "    outputs = net(X_train)\n",
    "    loss = criterion(outputs, y_train)\n",
    "    loss.backward()\n",
    "    optimizer.step()\n",
    "    losses.append(loss.item())\n",
    "    _, preds_y = torch.max(outputs, 1)\n",
    "    train_acc = accuracy_score(y_train, preds_y)\n",
    "    \n",
    "    pred_test = net(X_test)\n",
    "    _, preds_test_y = torch.max(pred_test, 1)\n",
    "    test_acc = accuracy_score(y_test, preds_test_y)\n",
    "    print(\"Epoch {}, Loss: {}, Acc:{:.2f}%, Test Acc: {:.2f}%\".format(epoch, loss.item(), \n",
    "                                                                      train_acc*100, test_acc * 100))\n",
    "    if test_acc > max_test:\n",
    "        max_test = test_acc\n",
    "        best_params = net.state_dict()\n",
    "net.load_state_dict(best_params)"
   ]
  },
  {
   "cell_type": "code",
   "execution_count": 60,
   "metadata": {},
   "outputs": [
    {
     "data": {
      "image/png": "[encoded data removed]",
      "text/plain": [
       "<Figure size 432x288 with 1 Axes>"
      ]
     },
     "metadata": {
      "needs_background": "light"
     },
     "output_type": "display_data"
    }
   ],
   "source": [
    "plt.plot(losses)\n",
    "\n",
    "pred_test = net(X_test)\n",
    "_, preds_y = torch.max(pred_test, 1)\n",
    "\n",
    "cnng_acc = accuracy_score(y_test, preds_y)\n",
    "cnng_prec = precision_score(y_test, preds_y,average='weighted')\n",
    "cnng_rec = recall_score(y_test, preds_y,average='weighted')\n",
    "cnng_f1 = f1_score(y_test, preds_y,average='weighted')"
   ]
  },
  {
   "cell_type": "code",
   "execution_count": 97,
   "metadata": {},
   "outputs": [],
   "source": [
    "storeResults('CNN-G',cnng_acc,cnng_prec,cnng_rec,cnng_f1)"
   ]
  },
  {
   "cell_type": "markdown",
   "metadata": {},
   "source": [
    "# DNN-G"
   ]
  },
  {
   "cell_type": "code",
   "execution_count": 61,
   "metadata": {},
   "outputs": [],
   "source": [
    "class dnn(nn.Module):\n",
    "    def __init__(self):\n",
    "        super(dnn, self).__init__()\n",
    "        self.fc1 = nn.Linear(12, 64)\n",
    "        self.fc2 = nn.Linear(64, 128)\n",
    "        self.fc3 = nn.Linear(128, 256)\n",
    "        self.fc4 = nn.Linear(256, 5)\n",
    "        self.act = nn.LeakyReLU()\n",
    "        self.dropout = nn.Dropout(0.1)\n",
    "    def forward(self, x):\n",
    "        x = self.act(self.fc1(x))\n",
    "        x = self.act(self.fc2(x))\n",
    "        x = self.act(self.fc3(x))\n",
    "        x = self.dropout(x)\n",
    "        return self.fc4(x)"
   ]
  },
  {
   "cell_type": "code",
   "execution_count": 62,
   "metadata": {},
   "outputs": [],
   "source": [
    "net = dnn()"
   ]
  },
  {
   "cell_type": "code",
   "execution_count": 63,
   "metadata": {},
   "outputs": [],
   "source": [
    "optimizer = optim.AdamW(net.parameters())\n",
    "criterion = nn.CrossEntropyLoss()"
   ]
  },
  {
   "cell_type": "code",
   "execution_count": 64,
   "metadata": {},
   "outputs": [],
   "source": [
    "losses = []"
   ]
  },
  {
   "cell_type": "code",
   "execution_count": 65,
   "metadata": {},
   "outputs": [
    {
     "name": "stdout",
     "output_type": "stream",
     "text": [
      "Epoch 1, Loss: 1.6693103313446045, Acc:3.77%, Test Acc: 4.60%\n",
      "Epoch 2, Loss: 1.6364161968231201, Acc:3.52%, Test Acc: 4.60%\n",
      "Epoch 3, Loss: 1.6047687530517578, Acc:3.10%, Test Acc: 72.30%\n",
      "Epoch 4, Loss: 1.573276400566101, Acc:75.15%, Test Acc: 93.90%\n",
      "Epoch 5, Loss: 1.5414459705352783, Acc:95.43%, Test Acc: 93.90%\n",
      "Epoch 6, Loss: 1.5095566511154175, Acc:95.45%, Test Acc: 93.90%\n",
      "Epoch 7, Loss: 1.4752298593521118, Acc:95.45%, Test Acc: 93.90%\n",
      "Epoch 8, Loss: 1.4393025636672974, Acc:95.45%, Test Acc: 93.90%\n",
      "Epoch 9, Loss: 1.4006553888320923, Acc:95.45%, Test Acc: 93.90%\n",
      "Epoch 10, Loss: 1.3579394817352295, Acc:95.45%, Test Acc: 93.90%\n",
      "Epoch 11, Loss: 1.3115023374557495, Acc:95.45%, Test Acc: 93.90%\n",
      "Epoch 12, Loss: 1.261152744293213, Acc:95.45%, Test Acc: 93.90%\n",
      "Epoch 13, Loss: 1.2065515518188477, Acc:95.45%, Test Acc: 93.90%\n",
      "Epoch 14, Loss: 1.1471229791641235, Acc:95.45%, Test Acc: 93.90%\n",
      "Epoch 15, Loss: 1.0832042694091797, Acc:95.45%, Test Acc: 93.90%\n",
      "Epoch 16, Loss: 1.0144752264022827, Acc:95.45%, Test Acc: 93.90%\n",
      "Epoch 17, Loss: 0.9395467638969421, Acc:95.45%, Test Acc: 93.90%\n",
      "Epoch 18, Loss: 0.8626735806465149, Acc:95.45%, Test Acc: 93.90%\n",
      "Epoch 19, Loss: 0.7817019820213318, Acc:95.45%, Test Acc: 93.90%\n",
      "Epoch 20, Loss: 0.7000527381896973, Acc:95.45%, Test Acc: 93.90%\n",
      "Epoch 21, Loss: 0.6184298992156982, Acc:95.45%, Test Acc: 93.90%\n",
      "Epoch 22, Loss: 0.5426898002624512, Acc:95.45%, Test Acc: 93.90%\n",
      "Epoch 23, Loss: 0.47138863801956177, Acc:95.45%, Test Acc: 93.90%\n",
      "Epoch 24, Loss: 0.4096085727214813, Acc:95.45%, Test Acc: 93.90%\n",
      "Epoch 25, Loss: 0.3567488491535187, Acc:95.45%, Test Acc: 93.90%\n",
      "Epoch 26, Loss: 0.31529760360717773, Acc:95.45%, Test Acc: 93.90%\n",
      "Epoch 27, Loss: 0.2867102324962616, Acc:95.45%, Test Acc: 93.90%\n",
      "Epoch 28, Loss: 0.2669617235660553, Acc:95.45%, Test Acc: 93.90%\n",
      "Epoch 29, Loss: 0.25558391213417053, Acc:95.45%, Test Acc: 93.90%\n",
      "Epoch 30, Loss: 0.2507353127002716, Acc:95.45%, Test Acc: 93.90%\n",
      "Epoch 31, Loss: 0.24917247891426086, Acc:95.45%, Test Acc: 93.90%\n",
      "Epoch 32, Loss: 0.24996422231197357, Acc:95.45%, Test Acc: 93.90%\n",
      "Epoch 33, Loss: 0.25341305136680603, Acc:95.45%, Test Acc: 93.90%\n",
      "Epoch 34, Loss: 0.2535127103328705, Acc:95.45%, Test Acc: 93.90%\n",
      "Epoch 35, Loss: 0.2544773519039154, Acc:95.45%, Test Acc: 93.90%\n",
      "Epoch 36, Loss: 0.2554570138454437, Acc:95.45%, Test Acc: 93.90%\n",
      "Epoch 37, Loss: 0.25359055399894714, Acc:95.45%, Test Acc: 93.90%\n",
      "Epoch 38, Loss: 0.25072628259658813, Acc:95.45%, Test Acc: 93.90%\n",
      "Epoch 39, Loss: 0.24727372825145721, Acc:95.45%, Test Acc: 93.90%\n",
      "Epoch 40, Loss: 0.2418554574251175, Acc:95.45%, Test Acc: 93.90%\n",
      "Epoch 41, Loss: 0.2367037981748581, Acc:95.45%, Test Acc: 93.90%\n",
      "Epoch 42, Loss: 0.23120145499706268, Acc:95.45%, Test Acc: 93.90%\n",
      "Epoch 43, Loss: 0.22426652908325195, Acc:95.45%, Test Acc: 93.90%\n",
      "Epoch 44, Loss: 0.21725794672966003, Acc:95.45%, Test Acc: 93.90%\n",
      "Epoch 45, Loss: 0.20975105464458466, Acc:95.45%, Test Acc: 93.90%\n",
      "Epoch 46, Loss: 0.202281653881073, Acc:95.45%, Test Acc: 93.90%\n",
      "Epoch 47, Loss: 0.19650611281394958, Acc:95.45%, Test Acc: 93.90%\n",
      "Epoch 48, Loss: 0.19138576090335846, Acc:95.45%, Test Acc: 93.90%\n",
      "Epoch 49, Loss: 0.18496282398700714, Acc:95.45%, Test Acc: 93.90%\n"
     ]
    },
    {
     "data": {
      "text/plain": [
       "<All keys matched successfully>"
      ]
     },
     "execution_count": 65,
     "metadata": {},
     "output_type": "execute_result"
    }
   ],
   "source": [
    "max_test = 0\n",
    "best_params = net.state_dict()\n",
    "for epoch in range(1, 50):\n",
    "    optimizer.zero_grad()\n",
    "    outputs = net(X_train)\n",
    "    loss = criterion(outputs, y_train)\n",
    "    loss.backward()\n",
    "    optimizer.step()\n",
    "    losses.append(loss.item())\n",
    "    _, preds_y = torch.max(outputs, 1)\n",
    "    train_acc = accuracy_score(y_train, preds_y)\n",
    "    \n",
    "    pred_test = net(X_test)\n",
    "    _, preds_test_y = torch.max(pred_test, 1)\n",
    "    test_acc = accuracy_score(y_test, preds_test_y)\n",
    "    print(\"Epoch {}, Loss: {}, Acc:{:.2f}%, Test Acc: {:.2f}%\".format(epoch, loss.item(), \n",
    "                                                                      train_acc*100, test_acc * 100))\n",
    "    if test_acc > max_test:\n",
    "        max_test = test_acc\n",
    "        best_params = net.state_dict()\n",
    "net.load_state_dict(best_params)"
   ]
  },
  {
   "cell_type": "code",
   "execution_count": 66,
   "metadata": {},
   "outputs": [
    {
     "data": {
      "text/plain": [
       "[<matplotlib.lines.Line2D at 0x25be75df2c8>]"
      ]
     },
     "execution_count": 66,
     "metadata": {},
     "output_type": "execute_result"
    },
    {
     "data": {
      "image/png": "[encoded data removed]",
      "text/plain": [
       "<Figure size 432x288 with 1 Axes>"
      ]
     },
     "metadata": {
      "needs_background": "light"
     },
     "output_type": "display_data"
    }
   ],
   "source": [
    "plt.plot(losses)"
   ]
  },
  {
   "cell_type": "code",
   "execution_count": 67,
   "metadata": {},
   "outputs": [],
   "source": [
    "pred_test = net(X_test)\n",
    "_, preds_y = torch.max(pred_test, 1)"
   ]
  },
  {
   "cell_type": "code",
   "execution_count": 68,
   "metadata": {},
   "outputs": [],
   "source": [
    "dnng_acc = accuracy_score(y_test, preds_y)\n",
    "dnng_prec = precision_score(y_test, preds_y,average='weighted')\n",
    "dnng_rec = recall_score(y_test, preds_y,average='weighted')\n",
    "dnng_f1 = f1_score(y_test, preds_y,average='weighted')"
   ]
  },
  {
   "cell_type": "code",
   "execution_count": 98,
   "metadata": {},
   "outputs": [],
   "source": [
    "storeResults('DNN-G',dnng_acc,dnng_prec,dnng_rec,dnng_f1)"
   ]
  },
  {
   "cell_type": "markdown",
   "metadata": {},
   "source": [
    "# CNN"
   ]
  },
  {
   "cell_type": "code",
   "execution_count": 69,
   "metadata": {},
   "outputs": [],
   "source": [
    "from tensorflow.keras.models import Sequential\n",
    "from tensorflow.keras.layers import Dense\n",
    "from tensorflow.keras.models import Model, load_model\n",
    "from tensorflow.keras.utils import to_categorical\n",
    "from tensorflow.keras.layers import Dropout\n",
    "from tensorflow.keras.layers import Flatten\n",
    "from tensorflow.keras.layers import Conv1D\n",
    "from tensorflow.keras.layers import MaxPooling1D"
   ]
  },
  {
   "cell_type": "code",
   "execution_count": 70,
   "metadata": {},
   "outputs": [],
   "source": [
    "X_train, X_test, y_train, y_test = train_test_split(X_reduced, y, test_size = 0.2)"
   ]
  },
  {
   "cell_type": "code",
   "execution_count": 71,
   "metadata": {},
   "outputs": [],
   "source": [
    "#X_train=X_train.values\n",
    "#X_test=X_test.values\n",
    "\n",
    "X_train = X_train.reshape(-1, X_train.shape[1],1)\n",
    "X_test = X_test.reshape(-1, X_test.shape[1],1)\n",
    "\n",
    "Y_train=to_categorical(y_train)\n",
    "Y_test=to_categorical(y_test)"
   ]
  },
  {
   "cell_type": "code",
   "execution_count": 74,
   "metadata": {},
   "outputs": [
    {
     "name": "stdout",
     "output_type": "stream",
     "text": [
      "Model: \"sequential_1\"\n",
      "_________________________________________________________________\n",
      "Layer (type)                 Output Shape              Param #   \n",
      "=================================================================\n",
      "conv1d_1 (Conv1D)            (None, 11, 128)           384       \n",
      "_________________________________________________________________\n",
      "max_pooling1d_1 (MaxPooling1 (None, 5, 128)            0         \n",
      "_________________________________________________________________\n",
      "dropout_1 (Dropout)          (None, 5, 128)            0         \n",
      "_________________________________________________________________\n",
      "flatten_1 (Flatten)          (None, 640)               0         \n",
      "_________________________________________________________________\n",
      "dense_1 (Dense)              (None, 2)                 1282      \n",
      "=================================================================\n",
      "Total params: 1,666\n",
      "Trainable params: 1,666\n",
      "Non-trainable params: 0\n",
      "_________________________________________________________________\n"
     ]
    }
   ],
   "source": [
    "verbose, epoch, batch_size = 1, 100, 32\n",
    "activationFunction='relu'\n",
    "\n",
    "def CNN():\n",
    "    \n",
    "    cnnmodel = Sequential()\n",
    "    cnnmodel.add(Conv1D(filters=128, kernel_size=2, activation='relu',input_shape=(X_train.shape[1],X_train.shape[2])))\n",
    "    cnnmodel.add(MaxPooling1D(pool_size=2))\n",
    "    cnnmodel.add(Dropout(rate=0.2))\n",
    "    cnnmodel.add(Flatten())\n",
    "    cnnmodel.add(Dense(2, activation='softmax'))\n",
    "    cnnmodel.compile(optimizer='adam', loss='categorical_crossentropy',metrics=['accuracy'])\n",
    "    cnnmodel.summary()\n",
    "    return cnnmodel\n",
    "\n",
    "cnnmodel = CNN()"
   ]
  },
  {
   "cell_type": "code",
   "execution_count": 75,
   "metadata": {},
   "outputs": [
    {
     "name": "stdout",
     "output_type": "stream",
     "text": [
      "Epoch 1/5\n",
      "100/100 [==============================] - 4s 6ms/step - loss: 896330.5000 - accuracy: 0.9047 - val_loss: 62126.3164 - val_accuracy: 0.9588\n",
      "Epoch 2/5\n",
      "100/100 [==============================] - 1s 6ms/step - loss: 551135.2500 - accuracy: 0.9131 - val_loss: 125760.0000 - val_accuracy: 0.9600\n",
      "Epoch 3/5\n",
      "100/100 [==============================] - 1s 6ms/step - loss: 572774.7500 - accuracy: 0.9291 - val_loss: 70087.6250 - val_accuracy: 0.9525\n",
      "Epoch 4/5\n",
      "100/100 [==============================] - 1s 6ms/step - loss: 551003.1875 - accuracy: 0.9331 - val_loss: 90782.3984 - val_accuracy: 0.9563\n",
      "Epoch 5/5\n",
      "100/100 [==============================] - 1s 6ms/step - loss: 562968.5625 - accuracy: 0.9291 - val_loss: 29080.4316 - val_accuracy: 0.9563\n"
     ]
    }
   ],
   "source": [
    "modelhistory = cnnmodel.fit(X_train, Y_train, epochs=5, verbose=verbose, validation_split=0.2, batch_size = batch_size)"
   ]
  },
  {
   "cell_type": "code",
   "execution_count": 76,
   "metadata": {},
   "outputs": [
    {
     "data": {
      "image/png": "[encoded data removed]",
      "text/plain": [
       "<Figure size 432x288 with 1 Axes>"
      ]
     },
     "metadata": {
      "needs_background": "light"
     },
     "output_type": "display_data"
    },
    {
     "data": {
      "image/png": "[encoded data removed]",
      "text/plain": [
       "<Figure size 432x288 with 1 Axes>"
      ]
     },
     "metadata": {
      "needs_background": "light"
     },
     "output_type": "display_data"
    }
   ],
   "source": [
    "# Plot of accuracy vs epoch for train and test dataset\n",
    "plt.plot(modelhistory.history['accuracy'])\n",
    "plt.plot(modelhistory.history['val_accuracy'])\n",
    "plt.title(\"Plot of accuracy vs epoch for train and test dataset\")\n",
    "plt.ylabel('accuracy')\n",
    "plt.xlabel('epoch')\n",
    "plt.show()\n",
    "\n",
    "# Plot of loss vs epoch for train and test dataset\n",
    "plt.plot(modelhistory.history['loss'])\n",
    "plt.plot(modelhistory.history['val_loss'])\n",
    "plt.title(\"Plot of loss vs epoch for train and test dataset\")\n",
    "plt.ylabel('loss')\n",
    "plt.xlabel('epoch')\n",
    "plt.legend(['train', 'test'], loc='upper right')\n",
    "plt.show()"
   ]
  },
  {
   "cell_type": "code",
   "execution_count": 77,
   "metadata": {},
   "outputs": [
    {
     "name": "stdout",
     "output_type": "stream",
     "text": [
      "32/32 [==============================] - 0s 2ms/step\n",
      "32/32 [==============================] - 0s 2ms/step\n"
     ]
    }
   ],
   "source": [
    "cnnpredictions = cnnmodel.predict(X_test, verbose=1)\n",
    "cnn_predict=np.argmax(cnnpredictions,axis=1)\n",
    "\n",
    "y_pred = cnnmodel.predict(X_test, verbose=1)\n",
    "y_pred = np.argmax(y_pred,axis=1)\n",
    "\n",
    "#y_prob = cnnmodel.predict_proba(X_test)[:, 1]\n",
    "\n",
    "cnn_acc = accuracy_score(y_pred, y_test)\n",
    "cnn_prec = precision_score(y_pred, y_test,average='weighted')\n",
    "cnn_rec = recall_score(y_pred, y_test,average='weighted')\n",
    "cnn_f1 = f1_score(y_pred, y_test,average='weighted')"
   ]
  },
  {
   "cell_type": "code",
   "execution_count": 99,
   "metadata": {},
   "outputs": [],
   "source": [
    "storeResults('CNN',cnn_acc,cnn_prec,cnn_rec,cnn_f1)"
   ]
  },
  {
   "cell_type": "markdown",
   "metadata": {},
   "source": [
    "# LSTM"
   ]
  },
  {
   "cell_type": "code",
   "execution_count": 78,
   "metadata": {},
   "outputs": [
    {
     "name": "stdout",
     "output_type": "stream",
     "text": [
      "WARNING:tensorflow:Layer lstm will not use cuDNN kernels since it doesn't meet the criteria. It will use a generic GPU kernel as fallback when running on GPU.\n",
      "WARNING:tensorflow:Layer lstm_1 will not use cuDNN kernels since it doesn't meet the criteria. It will use a generic GPU kernel as fallback when running on GPU.\n",
      "WARNING:tensorflow:Layer lstm_2 will not use cuDNN kernels since it doesn't meet the criteria. It will use a generic GPU kernel as fallback when running on GPU.\n",
      "WARNING:tensorflow:Layer lstm_3 will not use cuDNN kernels since it doesn't meet the criteria. It will use a generic GPU kernel as fallback when running on GPU.\n"
     ]
    }
   ],
   "source": [
    "from keras.models import Sequential\n",
    "from keras.layers import Dense, LSTM\n",
    "from keras.layers import Dropout\n",
    "from keras import regularizers\n",
    "import tensorflow as tf\n",
    "\n",
    "# define a function to build the keras model\n",
    "def create_model(input_shape):\n",
    "    # create model\n",
    "    d = 0.25\n",
    "    model = Sequential()\n",
    "    \n",
    "    model.add(LSTM(32, input_shape=input_shape, activation='relu', return_sequences=True))\n",
    "    model.add(Dropout(d))\n",
    "\n",
    "    model.add(LSTM(64, input_shape=input_shape, activation='relu', return_sequences=True))\n",
    "    model.add(Dropout(d))\n",
    "        \n",
    "    model.add(LSTM(128, input_shape=input_shape, activation='relu', return_sequences=True))\n",
    "    model.add(Dropout(d))\n",
    "\n",
    "    model.add(LSTM(256, input_shape=input_shape, activation='relu', return_sequences=False))\n",
    "    model.add(Dropout(d))\n",
    "   \n",
    "    model.add(Dense(32,kernel_initializer=\"uniform\",activation='relu'))        \n",
    "    model.add(Dense(1,kernel_initializer=\"uniform\",activation='linear'))\n",
    "    \n",
    "    # compile model\n",
    "    adam = tf.keras.optimizers.Adam(learning_rate=0.001, decay=0.00001)\n",
    "    #model.compile(loss='mse', optimizer='adam', metrics=['accuracy'])\n",
    "    model.compile(loss='categorical_crossentropy', optimizer='adam', metrics=['accuracy'])\n",
    "    #model.compile(loss='binary_crossentropy', optimizer='adam', metrics=['accuracy'])\n",
    "    return model\n",
    "\n",
    "model = create_model(input_shape=(14,1))\n",
    "#print(model.summary())"
   ]
  },
  {
   "cell_type": "code",
   "execution_count": 79,
   "metadata": {},
   "outputs": [
    {
     "name": "stdout",
     "output_type": "stream",
     "text": [
      "Epoch 1/5\n",
      "WARNING:tensorflow:Model was constructed with shape (None, 14, 1) for input KerasTensor(type_spec=TensorSpec(shape=(None, 14, 1), dtype=tf.float32, name='lstm_input'), name='lstm_input', description=\"created by layer 'lstm_input'\"), but it was called on an input with incompatible shape (32, 12, 1).\n",
      "WARNING:tensorflow:Model was constructed with shape (None, 14, 1) for input KerasTensor(type_spec=TensorSpec(shape=(None, 14, 1), dtype=tf.float32, name='lstm_input'), name='lstm_input', description=\"created by layer 'lstm_input'\"), but it was called on an input with incompatible shape (32, 12, 1).\n",
      "125/125 [==============================] - ETA: 0s - loss: 1.1379e-07 - accuracy: 0.6487WARNING:tensorflow:Model was constructed with shape (None, 14, 1) for input KerasTensor(type_spec=TensorSpec(shape=(None, 14, 1), dtype=tf.float32, name='lstm_input'), name='lstm_input', description=\"created by layer 'lstm_input'\"), but it was called on an input with incompatible shape (None, 12, 1).\n",
      "125/125 [==============================] - 34s 137ms/step - loss: 1.1379e-07 - accuracy: 0.6487 - val_loss: 1.1361e-07 - val_accuracy: 0.8490\n",
      "Epoch 2/5\n",
      "125/125 [==============================] - 16s 129ms/step - loss: 1.1328e-07 - accuracy: 0.6548 - val_loss: 1.1361e-07 - val_accuracy: 0.8490\n",
      "Epoch 3/5\n",
      "125/125 [==============================] - 16s 131ms/step - loss: 1.1296e-07 - accuracy: 0.6546 - val_loss: 1.1361e-07 - val_accuracy: 0.8490\n",
      "Epoch 4/5\n",
      "125/125 [==============================] - 16s 132ms/step - loss: 1.1375e-07 - accuracy: 0.6537 - val_loss: 1.1361e-07 - val_accuracy: 0.8490\n",
      "Epoch 5/5\n",
      "125/125 [==============================] - 17s 136ms/step - loss: 1.1318e-07 - accuracy: 0.6529 - val_loss: 1.1361e-07 - val_accuracy: 0.8490\n"
     ]
    }
   ],
   "source": [
    "history=model.fit(X_train, y_train, validation_data=(X_test, y_test),epochs=5, batch_size=32, verbose=1)"
   ]
  },
  {
   "cell_type": "code",
   "execution_count": 80,
   "metadata": {},
   "outputs": [
    {
     "data": {
      "image/png": "[encoded data removed]",
      "text/plain": [
       "<Figure size 432x288 with 1 Axes>"
      ]
     },
     "metadata": {
      "needs_background": "light"
     },
     "output_type": "display_data"
    },
    {
     "data": {
      "image/png": "[encoded data removed]",
      "text/plain": [
       "<Figure size 432x288 with 1 Axes>"
      ]
     },
     "metadata": {
      "needs_background": "light"
     },
     "output_type": "display_data"
    },
    {
     "name": "stdout",
     "output_type": "stream",
     "text": [
      "WARNING:tensorflow:Model was constructed with shape (None, 14, 1) for input KerasTensor(type_spec=TensorSpec(shape=(None, 14, 1), dtype=tf.float32, name='lstm_input'), name='lstm_input', description=\"created by layer 'lstm_input'\"), but it was called on an input with incompatible shape (None, 12, 1).\n",
      "32/32 [==============================] - 2s 36ms/step\n"
     ]
    }
   ],
   "source": [
    "# Plot training & validation loss values\n",
    "plt.plot(history.history['loss'])\n",
    "plt.plot(history.history['val_loss'])\n",
    "plt.title('Model loss')\n",
    "plt.ylabel('Loss')\n",
    "plt.xlabel('Epoch')\n",
    "plt.legend(['Train', 'Validation'], loc='upper left')\n",
    "plt.savefig('loss.png', format='png', dpi=1200)\n",
    "plt.show()\n",
    "\n",
    "\n",
    "# Plot training & validation accuracy values\n",
    "plt.plot(history.history['accuracy'])\n",
    "plt.plot(history.history['val_accuracy'])\n",
    "plt.title('Model accuracy')\n",
    "plt.ylabel('Accuracy')\n",
    "plt.xlabel('Epoch')\n",
    "plt.legend(['Train', 'Validation'], loc='upper left')\n",
    "plt.savefig('accuracy.png', format='png', dpi=1200)\n",
    "plt.show()\n",
    "\n",
    "y_pred = model.predict(X_test, verbose=1)\n",
    "y_pred = np.argmax(y_pred,axis=1)\n",
    "\n",
    "\n",
    "#y_prob = cnnmodel.predict_proba(X_test)[:, 1]\n",
    "\n",
    "lstm_acc = accuracy_score(y_pred, y_test)\n",
    "lstm_prec = precision_score(y_pred, y_test,average='weighted')\n",
    "lstm_rec = recall_score(y_pred, y_test,average='weighted')\n",
    "lstm_f1 = f1_score(y_pred, y_test,average='weighted')\n",
    "\n",
    "#storeResults('LSTM',dl_acc,dl_prec,dl_rec,dl_f1)"
   ]
  },
  {
   "cell_type": "code",
   "execution_count": 100,
   "metadata": {},
   "outputs": [],
   "source": [
    "storeResults('LSTM',lstm_acc,lstm_prec,lstm_rec,lstm_f1)"
   ]
  },
  {
   "cell_type": "markdown",
   "metadata": {},
   "source": [
    "# DNN"
   ]
  },
  {
   "cell_type": "code",
   "execution_count": 81,
   "metadata": {},
   "outputs": [],
   "source": [
    "from keras.layers import Activation, Dense, Dropout, BatchNormalization, Input\n",
    "from keras.models import Model\n",
    "from keras.callbacks import ReduceLROnPlateau, EarlyStopping"
   ]
  },
  {
   "cell_type": "code",
   "execution_count": 82,
   "metadata": {},
   "outputs": [],
   "source": [
    "X_train, X_test, y_train, y_test = train_test_split(X_reduced, y, test_size=0.33, random_state=1)"
   ]
  },
  {
   "cell_type": "code",
   "execution_count": 83,
   "metadata": {},
   "outputs": [],
   "source": [
    "n_inputs = X_train.shape[1]"
   ]
  },
  {
   "cell_type": "code",
   "execution_count": 84,
   "metadata": {},
   "outputs": [],
   "source": [
    "from sklearn.preprocessing import MinMaxScaler\n",
    "t = MinMaxScaler()\n",
    "t.fit(X_train)\n",
    "X_train = t.transform(X_train)\n",
    "X_test = t.transform(X_test)"
   ]
  },
  {
   "cell_type": "code",
   "execution_count": 85,
   "metadata": {},
   "outputs": [],
   "source": [
    "from tensorflow.keras.models import Model\n",
    "from tensorflow.keras.layers import Input\n",
    "from tensorflow.keras.layers import Dense\n",
    "from tensorflow.keras.layers import LeakyReLU\n",
    "from tensorflow.keras.layers import BatchNormalization\n",
    "\n",
    "# define encoder\n",
    "visible = Input(shape=(n_inputs,))\n",
    "\n",
    "# encoder level 1\n",
    "e = Dense(n_inputs * 2)(visible)\n",
    "e = BatchNormalization()(e)\n",
    "e = LeakyReLU()(e)\n",
    "\n",
    "# encoder level 2\n",
    "e = Dense(n_inputs)(e)\n",
    "e = BatchNormalization()(e)\n",
    "e = LeakyReLU()(e)\n",
    "\n",
    "# bottleneck\n",
    "n_bottleneck = n_inputs\n",
    "bottleneck = Dense(n_bottleneck)(e)"
   ]
  },
  {
   "cell_type": "code",
   "execution_count": 86,
   "metadata": {},
   "outputs": [],
   "source": [
    "# define decoder, level 1\n",
    "d = Dense(n_inputs)(bottleneck)\n",
    "d = BatchNormalization()(d)\n",
    "d = LeakyReLU()(d)\n",
    "\n",
    "# decoder level 2\n",
    "d = Dense(n_inputs*2)(d)\n",
    "d = BatchNormalization()(d)\n",
    "d = LeakyReLU()(d)\n",
    "\n",
    "# output layer\n",
    "output = Dense(n_inputs, activation='linear')(d)"
   ]
  },
  {
   "cell_type": "code",
   "execution_count": 87,
   "metadata": {},
   "outputs": [],
   "source": [
    "# define autoencoder model\n",
    "model = Model(inputs=visible, outputs=output)"
   ]
  },
  {
   "cell_type": "code",
   "execution_count": 88,
   "metadata": {},
   "outputs": [],
   "source": [
    "# compile autoencoder model\n",
    "model.compile(optimizer='adam', loss='mse')"
   ]
  },
  {
   "cell_type": "code",
   "execution_count": 89,
   "metadata": {},
   "outputs": [],
   "source": [
    "history = model.fit(X_train, X_train, epochs=5, batch_size=32, verbose=0, validation_data=(X_test,X_test))"
   ]
  },
  {
   "cell_type": "code",
   "execution_count": 90,
   "metadata": {},
   "outputs": [
    {
     "data": {
      "image/png": "[encoded data removed]",
      "text/plain": [
       "<Figure size 432x288 with 1 Axes>"
      ]
     },
     "metadata": {
      "needs_background": "light"
     },
     "output_type": "display_data"
    }
   ],
   "source": [
    "from tensorflow.keras.utils import plot_model\n",
    "from matplotlib import pyplot\n",
    "\n",
    "# plot loss\n",
    "pyplot.plot(history.history['loss'], label='train')\n",
    "pyplot.plot(history.history['val_loss'], label='test')\n",
    "pyplot.legend()\n",
    "pyplot.show()"
   ]
  },
  {
   "cell_type": "code",
   "execution_count": 91,
   "metadata": {},
   "outputs": [
    {
     "name": "stdout",
     "output_type": "stream",
     "text": [
      "('You must install pydot (`pip install pydot`) and install graphviz (see instructions at https://graphviz.gitlab.io/download/) ', 'for plot_model/model_to_dot to work.')\n",
      "WARNING:tensorflow:Compiled the loaded model, but the compiled metrics have yet to be built. `model.compile_metrics` will be empty until you train or evaluate the model.\n"
     ]
    }
   ],
   "source": [
    "# define an encoder model (without the decoder)\n",
    "encoder = Model(inputs=visible, outputs=bottleneck)\n",
    "plot_model(encoder, 'encoder_compress.png', show_shapes=True)\n",
    "\n",
    "# save the encoder to file\n",
    "encoder.save('encoder1.h5')"
   ]
  },
  {
   "cell_type": "code",
   "execution_count": 92,
   "metadata": {},
   "outputs": [],
   "source": [
    "# encode the train data\n",
    "X_train_encode = encoder.predict(X_train)\n",
    "# encode the test data\n",
    "X_test_encode = encoder.predict(X_test)\n",
    "## So effectively , its like dimensinality reduction or feature extraction\n",
    "\n",
    "# define the model\n",
    "from sklearn.neural_network import MLPClassifier\n",
    "model = MLPClassifier(random_state=1, max_iter=300)  \n",
    "## specifying max_iter = 200 , to avoid the CONVERGENCE WARNING\n",
    "## Why do we get CONVERGENCE WARNING ?\n",
    "## because the model has converged already , but our loop is still training ovwr many epochs.\n",
    "## Reduce the epochs\n",
    "\n",
    "# fit the model on the training set\n",
    "model.fit(X_train_encode, y_train)\n",
    "\n",
    "# make predictions on the test set\n",
    "yhat = model.predict(X_test_encode)\n",
    "\n",
    "# calculate classification accuracy\n",
    "acc = accuracy_score(y_test, yhat)"
   ]
  },
  {
   "cell_type": "code",
   "execution_count": 93,
   "metadata": {},
   "outputs": [],
   "source": [
    "dnn_acc = accuracy_score(y_test, yhat)\n",
    "dnn_prec = precision_score(y_test, yhat,average='weighted')\n",
    "dnn_rec = recall_score(y_test, yhat,average='weighted')\n",
    "dnn_f1 = f1_score(y_test, yhat,average='weighted')"
   ]
  },
  {
   "cell_type": "code",
   "execution_count": 101,
   "metadata": {},
   "outputs": [],
   "source": [
    "storeResults('DNN',dnn_acc,dnn_prec,dnn_rec,dnn_f1)"
   ]
  },
  {
   "cell_type": "markdown",
   "metadata": {},
   "source": [
    "# Comparison"
   ]
  },
  {
   "cell_type": "code",
   "execution_count": 115,
   "metadata": {},
   "outputs": [],
   "source": [
    "#creating dataframe\n",
    "import pandas as pd\n",
    "import numpy as np\n",
    "result = pd.DataFrame({ 'ML Model' : ML_Model,\n",
    "                        'Accuracy' : accuracy,\n",
    "                        'f1_score' : f1score,\n",
    "                        'Recall'   : recall,\n",
    "                        'Precision': precision,\n",
    "                        \n",
    "                      })"
   ]
  },
  {
   "cell_type": "code",
   "execution_count": 116,
   "metadata": {},
   "outputs": [
    {
     "data": {
      "text/html": [
       "<div>\n",
       "<style scoped>\n",
       "    .dataframe tbody tr th:only-of-type {\n",
       "        vertical-align: middle;\n",
       "    }\n",
       "\n",
       "    .dataframe tbody tr th {\n",
       "        vertical-align: top;\n",
       "    }\n",
       "\n",
       "    .dataframe thead th {\n",
       "        text-align: right;\n",
       "    }\n",
       "</style>\n",
       "<table border=\"1\" class=\"dataframe\">\n",
       "  <thead>\n",
       "    <tr style=\"text-align: right;\">\n",
       "      <th></th>\n",
       "      <th>ML Model</th>\n",
       "      <th>Accuracy</th>\n",
       "      <th>f1_score</th>\n",
       "      <th>Recall</th>\n",
       "      <th>Precision</th>\n",
       "    </tr>\n",
       "  </thead>\n",
       "  <tbody>\n",
       "    <tr>\n",
       "      <th>0</th>\n",
       "      <td>SVM</td>\n",
       "      <td>0.939</td>\n",
       "      <td>0.969</td>\n",
       "      <td>0.939</td>\n",
       "      <td>1.000</td>\n",
       "    </tr>\n",
       "    <tr>\n",
       "      <th>1</th>\n",
       "      <td>DT</td>\n",
       "      <td>0.984</td>\n",
       "      <td>0.984</td>\n",
       "      <td>0.984</td>\n",
       "      <td>0.984</td>\n",
       "    </tr>\n",
       "    <tr>\n",
       "      <th>2</th>\n",
       "      <td>LSTM-G</td>\n",
       "      <td>0.939</td>\n",
       "      <td>0.909</td>\n",
       "      <td>0.939</td>\n",
       "      <td>0.882</td>\n",
       "    </tr>\n",
       "    <tr>\n",
       "      <th>3</th>\n",
       "      <td>CNN-G</td>\n",
       "      <td>0.939</td>\n",
       "      <td>0.909</td>\n",
       "      <td>0.939</td>\n",
       "      <td>0.882</td>\n",
       "    </tr>\n",
       "    <tr>\n",
       "      <th>4</th>\n",
       "      <td>DNN-G</td>\n",
       "      <td>0.939</td>\n",
       "      <td>0.909</td>\n",
       "      <td>0.939</td>\n",
       "      <td>0.882</td>\n",
       "    </tr>\n",
       "    <tr>\n",
       "      <th>5</th>\n",
       "      <td>CNN</td>\n",
       "      <td>0.961</td>\n",
       "      <td>0.972</td>\n",
       "      <td>0.961</td>\n",
       "      <td>0.988</td>\n",
       "    </tr>\n",
       "    <tr>\n",
       "      <th>6</th>\n",
       "      <td>LSTM</td>\n",
       "      <td>0.047</td>\n",
       "      <td>0.090</td>\n",
       "      <td>0.047</td>\n",
       "      <td>1.000</td>\n",
       "    </tr>\n",
       "    <tr>\n",
       "      <th>7</th>\n",
       "      <td>DNN</td>\n",
       "      <td>0.979</td>\n",
       "      <td>0.977</td>\n",
       "      <td>0.979</td>\n",
       "      <td>0.978</td>\n",
       "    </tr>\n",
       "    <tr>\n",
       "      <th>8</th>\n",
       "      <td>Voting Classifier</td>\n",
       "      <td>0.984</td>\n",
       "      <td>0.984</td>\n",
       "      <td>0.984</td>\n",
       "      <td>0.984</td>\n",
       "    </tr>\n",
       "    <tr>\n",
       "      <th>9</th>\n",
       "      <td>Stacking Classifier</td>\n",
       "      <td>0.998</td>\n",
       "      <td>0.998</td>\n",
       "      <td>0.998</td>\n",
       "      <td>0.998</td>\n",
       "    </tr>\n",
       "  </tbody>\n",
       "</table>\n",
       "</div>"
      ],
      "text/plain": [
       "              ML Model  Accuracy  f1_score  Recall  Precision\n",
       "0                  SVM     0.939     0.969   0.939      1.000\n",
       "1                   DT     0.984     0.984   0.984      0.984\n",
       "2               LSTM-G     0.939     0.909   0.939      0.882\n",
       "3                CNN-G     0.939     0.909   0.939      0.882\n",
       "4                DNN-G     0.939     0.909   0.939      0.882\n",
       "5                  CNN     0.961     0.972   0.961      0.988\n",
       "6                 LSTM     0.047     0.090   0.047      1.000\n",
       "7                  DNN     0.979     0.977   0.979      0.978\n",
       "8    Voting Classifier     0.984     0.984   0.984      0.984\n",
       "9  Stacking Classifier     0.998     0.998   0.998      0.998"
      ]
     },
     "execution_count": 116,
     "metadata": {},
     "output_type": "execute_result"
    }
   ],
   "source": [
    "result"
   ]
  },
  {
   "cell_type": "markdown",
   "metadata": {},
   "source": [
    "# Modelling"
   ]
  },
  {
   "cell_type": "code",
   "execution_count": 117,
   "metadata": {},
   "outputs": [
    {
     "data": {
      "text/plain": [
       "['model_unsw.sav']"
      ]
     },
     "execution_count": 117,
     "metadata": {},
     "output_type": "execute_result"
    }
   ],
   "source": [
    "import joblib\n",
    "filename = 'model_unsw.sav'\n",
    "joblib.dump(clf1, filename)"
   ]
  },
  {
   "cell_type": "markdown",
   "metadata": {},
   "source": [
    "# Graph"
   ]
  },
  {
   "cell_type": "code",
   "execution_count": 118,
   "metadata": {},
   "outputs": [],
   "source": [
    "classifier = ML_Model\n",
    "y_pos = np.arange(len(classifier))"
   ]
  },
  {
   "cell_type": "markdown",
   "metadata": {},
   "source": [
    "# Accuracy"
   ]
  },
  {
   "cell_type": "code",
   "execution_count": 119,
   "metadata": {},
   "outputs": [
    {
     "data": {
      "image/png": "[encoded data removed]",
      "text/plain": [
       "<Figure size 432x288 with 1 Axes>"
      ]
     },
     "metadata": {
      "needs_background": "light"
     },
     "output_type": "display_data"
    }
   ],
   "source": [
    "import matplotlib.pyplot as plt2\n",
    "plt2.barh(y_pos, accuracy, align='center', alpha=0.5,color='blue')\n",
    "plt2.yticks(y_pos, classifier)\n",
    "plt2.xlabel('Accuracy Score')\n",
    "plt2.title('Classification Performance')\n",
    "plt2.show()"
   ]
  },
  {
   "cell_type": "markdown",
   "metadata": {},
   "source": [
    "# Precision"
   ]
  },
  {
   "cell_type": "code",
   "execution_count": 120,
   "metadata": {},
   "outputs": [
    {
     "data": {
      "image/png": "[encoded data removed]",
      "text/plain": [
       "<Figure size 432x288 with 1 Axes>"
      ]
     },
     "metadata": {
      "needs_background": "light"
     },
     "output_type": "display_data"
    }
   ],
   "source": [
    "import matplotlib.pyplot as plt2\n",
    "plt2.barh(y_pos, precision, align='center', alpha=0.5,color='red')\n",
    "plt2.yticks(y_pos, classifier)\n",
    "plt2.xlabel('Precision Score')\n",
    "plt2.title('Classification Performance')\n",
    "plt2.show()"
   ]
  },
  {
   "cell_type": "markdown",
   "metadata": {},
   "source": [
    "# Recall"
   ]
  },
  {
   "cell_type": "code",
   "execution_count": 121,
   "metadata": {},
   "outputs": [
    {
     "data": {
      "image/png": "[encoded data removed]",
      "text/plain": [
       "<Figure size 432x288 with 1 Axes>"
      ]
     },
     "metadata": {
      "needs_background": "light"
     },
     "output_type": "display_data"
    }
   ],
   "source": [
    "import matplotlib.pyplot as plt2\n",
    "plt2.barh(y_pos, recall, align='center', alpha=0.5,color='yellow')\n",
    "plt2.yticks(y_pos, classifier)\n",
    "plt2.xlabel('Recall Score')\n",
    "plt2.title('Classification Performance')\n",
    "plt2.show()"
   ]
  },
  {
   "cell_type": "markdown",
   "metadata": {},
   "source": [
    "# F1Score"
   ]
  },
  {
   "cell_type": "code",
   "execution_count": 122,
   "metadata": {},
   "outputs": [
    {
     "data": {
      "image/png": "[encoded data removed]",
      "text/plain": [
       "<Figure size 432x288 with 1 Axes>"
      ]
     },
     "metadata": {
      "needs_background": "light"
     },
     "output_type": "display_data"
    }
   ],
   "source": [
    "import matplotlib.pyplot as plt2\n",
    "plt2.barh(y_pos, f1score, align='center', alpha=0.5,color='navy')\n",
    "plt2.yticks(y_pos, classifier)\n",
    "plt2.xlabel('F1 Score')\n",
    "plt2.title('Classification Performance')\n",
    "plt2.show()"
   ]
  },
  {
   "cell_type": "code",
   "execution_count": null,
   "metadata": {},
   "outputs": [],
   "source": []
  }
 ],
 "metadata": {
  "kernelspec": {
   "display_name": "Python 3",
   "language": "python",
   "name": "python3"
  },
  "language_info": {
   "codemirror_mode": {
    "name": "ipython",
    "version": 3
   },
   "file_extension": ".py",
   "mimetype": "text/x-python",
   "name": "python",
   "nbconvert_exporter": "python",
   "pygments_lexer": "ipython3",
   "version": "3.7.4"
  }
 },
 "nbformat": 4,
 "nbformat_minor": 2
}
